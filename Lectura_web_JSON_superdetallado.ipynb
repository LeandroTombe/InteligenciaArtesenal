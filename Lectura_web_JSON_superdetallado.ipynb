{
 "cells": [
  {
   "cell_type": "markdown",
   "id": "49cc47b7",
   "metadata": {},
   "source": [
    "# 📘 Lectura desde la Web (APIs) y JSON → pandas  \n",
    "**Con persistencia en Parquet/Pickle y opciones SQLite/MongoDB**  \n",
    "\n",
    "> Notebook orientado a *Ciencia de Datos*: consumir APIs web (JSON), normalizar y analizar con **pandas**, y **persistir** eficientemente para reutilización y performance."
   ]
  },
  {
   "cell_type": "markdown",
   "id": "33054487",
   "metadata": {},
   "source": [
    "## 🎯 Objetivos\n",
    "- Entender el flujo **API → JSON → Python → DataFrame**.\n",
    "- Consumir datos desde la web con **requests** (GET, headers, paginación, manejo de errores y rate limits).\n",
    "- Transformar JSON (incluyendo **anidado**) a **pandas DataFrame** con `json_normalize`.\n",
    "- Realizar limpieza: tipado, faltantes, selección de columnas, arrays con `explode`.\n",
    "- Persistir resultados en **Parquet** (columnar) y **Pickle** (Python-only, con nota de seguridad).\n",
    "- (Opcional) Guardar/leer en **SQLite** y **MongoDB**.\n",
    "- Medir performance y aplicar buenas prácticas.\n"
   ]
  },
  {
   "cell_type": "code",
   "execution_count": null,
   "id": "1f32c41e",
   "metadata": {},
   "outputs": [],
   "source": []
  },
  {
   "cell_type": "markdown",
   "id": "ff8e806b",
   "metadata": {},
   "source": [
    "## 🧠 Flujo general (mapa mental)\n",
    "\n",
    "```\n",
    "API (HTTP) ──► respuesta JSON (texto) ──► response.json() ──► dict/list (Python)\n",
    "     │\n",
    "     └──► status_code, headers, paginación, rate limits\n",
    "\n",
    "dict/list ──► pandas.json_normalize(...) ──► DataFrame ──► selección/limpieza\n",
    "                                                        └─► persistencia: Parquet / Pickle / SQLite / Mongo\n",
    "```\n"
   ]
  },
  {
   "cell_type": "markdown",
   "id": "cbf91d4f",
   "metadata": {},
   "source": [
    "## 🧾 JSON rápido (equivalencias)\n",
    "| JSON                          | Python            | Ejemplo                                 |\n",
    "|------------------------------|-------------------|-----------------------------------------|\n",
    "| `{ \"clave\": \"valor\" }`       | `dict`            | `{\"id\": 1, \"title\": \"Mouse\"}`           |\n",
    "| `[ { ... }, { ... } ]`       | `list`            | `[{\"id\":1},{\"id\":2}]`                   |\n",
    "| `\"texto\"`                    | `str`             | `\"hola\"`                                |\n",
    "| `123`, `45.6`                | `int` / `float`   | `42` / `3.14`                           |\n",
    "| `true`, `false`              | `bool`            | `True` / `False`                        |\n",
    "| `null`                       | `None`            | `None`                                  |\n"
   ]
  },
  {
   "cell_type": "markdown",
   "id": "3b327ab9",
   "metadata": {},
   "source": [
    "## 🧰 Librerías\n",
    "> Ejecutá la celda de instalación si te falta algo (descomentá las líneas)."
   ]
  },
  {
   "cell_type": "code",
   "execution_count": null,
   "id": "c2c879c5",
   "metadata": {},
   "outputs": [],
   "source": [
    "# !pip install requests pandas pyarrow fastparquet pymongo matplotlib\n",
    "import json, time, math, sys, os\n",
    "import requests\n",
    "import pandas as pd\n",
    "from pandas import json_normalize\n",
    "print('Versions → pandas:', pd.__version__)\n"
   ]
  },
  {
   "cell_type": "markdown",
   "id": "8be4b995",
   "metadata": {},
   "source": [
    "## 1) GET a una API pública (con manejo de errores) + **fallback offline**\n",
    "Usamos `https://dummyjson.com/products`. Si no hay internet, usamos un **JSON de ejemplo** embebido."
   ]
  },
  {
   "cell_type": "code",
   "execution_count": null,
   "id": "8e07c5f4",
   "metadata": {},
   "outputs": [],
   "source": [
    "URL = 'https://dummyjson.com/products'\n",
    "\n",
    "def fetch_json(url: str, timeout=10):\n",
    "    try:\n",
    "        r = requests.get(url, timeout=timeout)\n",
    "        if r.status_code != 200:\n",
    "            raise RuntimeError(f'HTTP {r.status_code}: {r.text[:120]}')\n",
    "        return r.json()\n",
    "    except Exception as e:\n",
    "        print('⚠️ No se pudo descargar desde la web. Usando fallback offline.\\nMotivo:', e)\n",
    "        # Fallback mínimo similar a dummyjson\n",
    "        return {\n",
    "            'products': [\n",
    "                {'id':1,'title':'Phone','brand':'Acme','price':199.99,'rating':4.5,'tags':['tech','mobile']},\n",
    "                {'id':2,'title':'Laptop','brand':'Acme','price':999.0,'rating':4.7,'tags':['tech','computer']},\n",
    "                {'id':3,'title':'Headphones','brand':'Sonic','price':79.5,'rating':4.2,'tags':['audio','tech']}\n",
    "            ],\n",
    "            'total': 3,\n",
    "            'skip': 0,\n",
    "            'limit': 3\n",
    "        }\n",
    "\n",
    "data = fetch_json(URL)\n",
    "type(data), list(data)[:5], (len(data['products']) if 'products' in data else None)\n"
   ]
  },
  {
   "cell_type": "markdown",
   "id": "cfc20a20",
   "metadata": {},
   "source": [
    "### Inspección rápida del JSON"
   ]
  },
  {
   "cell_type": "code",
   "execution_count": null,
   "id": "c80f2e8e",
   "metadata": {},
   "outputs": [],
   "source": [
    "print('Claves de nivel 1:', list(data.keys()))\n",
    "if 'products' in data:\n",
    "    print('Total productos reportado:', data.get('total'))\n",
    "    print('Ejemplo de primer producto:')\n",
    "    print(json.dumps(data['products'][0], indent=2, ensure_ascii=False))\n"
   ]
  },
  {
   "cell_type": "markdown",
   "id": "5ec5b348",
   "metadata": {},
   "source": [
    "## 2) De JSON a DataFrame con `json_normalize`\n",
    "- Si el JSON es **lista de objetos**: `pd.DataFrame(lista)`\n",
    "- Si el JSON es **anidado**: `json_normalize` ayuda a **aplanar**."
   ]
  },
  {
   "cell_type": "code",
   "execution_count": null,
   "id": "09f92ad2",
   "metadata": {},
   "outputs": [],
   "source": [
    "items = data['products'] if 'products' in data else data\n",
    "df = pd.DataFrame(items)\n",
    "df.head()\n"
   ]
  },
  {
   "cell_type": "code",
   "execution_count": null,
   "id": "9163ac32",
   "metadata": {},
   "outputs": [],
   "source": [
    "# Si existieran subcampos anidados, json_normalize los aplanaría con nombres jerárquicos 'a.b.c'\n",
    "df_flat = json_normalize(items, sep='.')\n",
    "df_flat.head()\n"
   ]
  },
  {
   "cell_type": "markdown",
   "id": "31a9053b",
   "metadata": {},
   "source": [
    "## 3) Selección y renombre de columnas\n",
    "Elegimos un subconjunto **mínimo viable** para análisis."
   ]
  },
  {
   "cell_type": "code",
   "execution_count": null,
   "id": "5e64af72",
   "metadata": {},
   "outputs": [],
   "source": [
    "keep = [c for c in ['id','title','brand','price','rating','tags'] if c in df_flat.columns]\n",
    "df_view = df_flat[keep].copy()\n",
    "df_view = df_view.rename(columns={'title':'name'})\n",
    "df_view.head()\n"
   ]
  },
  {
   "cell_type": "markdown",
   "id": "6d794948",
   "metadata": {},
   "source": [
    "## 4) Tipado y valores faltantes\n",
    "- Convertimos a numérico donde corresponde.\n",
    "- Calculamos % de faltantes por columna.\n",
    "- Creamos banderas de faltantes si hace falta."
   ]
  },
  {
   "cell_type": "code",
   "execution_count": null,
   "id": "ae9f0261",
   "metadata": {},
   "outputs": [],
   "source": [
    "for col in ['price','rating']:\n",
    "    if col in df_view.columns:\n",
    "        df_view[col] = pd.to_numeric(df_view[col], errors='coerce')\n",
    "na_pct = df_view.isna().mean().round(3)\n",
    "na_pct\n"
   ]
  },
  {
   "cell_type": "code",
   "execution_count": null,
   "id": "f213f23d",
   "metadata": {},
   "outputs": [],
   "source": [
    "# Bandera de faltantes opcional (tipo entero 0/1)\n",
    "for col in df_view.columns:\n",
    "    df_view[f'{col}_isna'] = df_view[col].isna().astype('Int8')\n",
    "df_view.head()\n"
   ]
  },
  {
   "cell_type": "markdown",
   "id": "1772d356",
   "metadata": {},
   "source": [
    "## 5) Manejo de listas dentro del JSON (`explode`)\n",
    "Cuando hay arrays (ej. `tags`), `explode` crea una fila por elemento."
   ]
  },
  {
   "cell_type": "code",
   "execution_count": null,
   "id": "17aab577",
   "metadata": {},
   "outputs": [],
   "source": [
    "if 'tags' in df_view.columns:\n",
    "    df_tags = df_view[['id','name','tags']].explode('tags', ignore_index=True)\n",
    "    df_tags.head()\n",
    "else:\n",
    "    print(\"No hay columna 'tags' en este dataset.\")\n"
   ]
  },
  {
   "cell_type": "markdown",
   "id": "af1c2d13",
   "metadata": {},
   "source": [
    "## 6) Visualización rápida (opcional)\n",
    "> Requiere `matplotlib`. No seteamos estilos ni colores."
   ]
  },
  {
   "cell_type": "code",
   "execution_count": null,
   "id": "2963e34f",
   "metadata": {},
   "outputs": [],
   "source": [
    "import matplotlib.pyplot as plt\n",
    "\n",
    "if 'brand' in df_view.columns:\n",
    "    counts = df_view['brand'].value_counts()\n",
    "    plt.figure()\n",
    "    counts.plot(kind='bar', title='Cantidad por marca')\n",
    "    plt.show()\n",
    "else:\n",
    "    print(\"No hay columna 'brand' para graficar.\")\n"
   ]
  },
  {
   "cell_type": "markdown",
   "id": "a43fa027",
   "metadata": {},
   "source": [
    "## 7) Paginación y rate limits (patrón general)\n",
    "Muchas APIs devuelven resultados en páginas. Patrón típico:"
   ]
  },
  {
   "cell_type": "code",
   "execution_count": null,
   "id": "1b617701",
   "metadata": {},
   "outputs": [],
   "source": [
    "def fetch_paginated(base_url, page_param='page', start=1, max_pages=3, per_page_param=None, per_page=50, delay=0.5):\n",
    "    \"\"\"Ejemplo genérico de paginación:\n",
    "    - base_url: 'https://api.ejemplo.com/items'\n",
    "    - page_param: 'page' o 'offset' según la API\n",
    "    - per_page_param: nombre del parámetro de tamaño de página si aplica\n",
    "    - delay: para respetar límites de rate (evitar bloqueos)\n",
    "    \"\"\"\n",
    "    all_items = []\n",
    "    for p in range(start, start+max_pages):\n",
    "        params = {page_param: p}\n",
    "        if per_page_param:\n",
    "            params[per_page_param] = per_page\n",
    "        r = requests.get(base_url, params=params, timeout=10)\n",
    "        if r.status_code != 200:\n",
    "            print('Página', p, 'HTTP', r.status_code)\n",
    "            break\n",
    "        payload = r.json()\n",
    "        # ⚠️ Adaptar a cómo venga la lista en tu API, p.ej. payload['results'] o payload['data']\n",
    "        items = payload.get('results') or payload.get('data') or payload.get('products') or []\n",
    "        all_items.extend(items)\n",
    "        time.sleep(delay)\n",
    "        if not items:\n",
    "            break\n",
    "    return all_items\n",
    "\n",
    "# Ejemplo (no ejecutable si la API no existe): \n",
    "# items = fetch_paginated('https://dummyjson.com/products')  # dummyjson usa otros parámetros\n",
    "# len(items)\n"
   ]
  },
  {
   "cell_type": "markdown",
   "id": "7839acca",
   "metadata": {},
   "source": [
    "## 8) Autenticación (Bearer/API-Key)\n",
    "Usá headers y nunca subas tu token al repo público."
   ]
  },
  {
   "cell_type": "code",
   "execution_count": null,
   "id": "4c80f4fd",
   "metadata": {},
   "outputs": [],
   "source": [
    "API_URL = 'https://api.ejemplo.com/data'\n",
    "TOKEN = os.getenv('API_TOKEN')  # definí API_TOKEN en tu entorno\n",
    "\n",
    "def get_with_auth(url):\n",
    "    if not TOKEN:\n",
    "        raise RuntimeError('Definí la variable de entorno API_TOKEN con tu token.')\n",
    "    headers = {'Authorization': f'Bearer {TOKEN}'}\n",
    "    r = requests.get(url, headers=headers, timeout=10)\n",
    "    r.raise_for_status()\n",
    "    return r.json()\n",
    "\n",
    "# data_auth = get_with_auth(API_URL)\n",
    "# data_auth\n"
   ]
  },
  {
   "cell_type": "markdown",
   "id": "7c31f177",
   "metadata": {},
   "source": [
    "## 9) Persistencia eficiente: **Parquet**\n",
    "- **Columnar**, **comprimido**, **portable** (Python, R, Spark).\n",
    "- Permite **leer solo columnas** necesarias."
   ]
  },
  {
   "cell_type": "code",
   "execution_count": null,
   "id": "90578026",
   "metadata": {},
   "outputs": [],
   "source": [
    "# Guardar\n",
    "df_view.to_parquet('products.parquet', engine='pyarrow', compression='snappy')\n",
    "\n",
    "# Leer solo algunas columnas\n",
    "subset_cols = [c for c in ['id','name','price'] if c in df_view.columns]\n",
    "subset = pd.read_parquet('products.parquet', columns=subset_cols if subset_cols else None)\n",
    "subset.head()\n"
   ]
  },
  {
   "cell_type": "markdown",
   "id": "eaf6b1b8",
   "metadata": {},
   "source": [
    "## 10) Persistencia **Pickle** (solo Python)\n",
    "- Guarda/recupera objetos de Python tal cual.\n",
    "- Seguridad: **no** abras pickles de fuentes no confiables."
   ]
  },
  {
   "cell_type": "code",
   "execution_count": null,
   "id": "29666ed9",
   "metadata": {},
   "outputs": [],
   "source": [
    "df_view.to_pickle('products.pkl')\n",
    "df_back = pd.read_pickle('products.pkl')\n",
    "df_back.head(3)\n"
   ]
  },
  {
   "cell_type": "markdown",
   "id": "3087274a",
   "metadata": {},
   "source": [
    "## 11) SQLite (SQL local en archivo `.db`)\n",
    "Ideal para consultas rápidas sin montar un servidor."
   ]
  },
  {
   "cell_type": "code",
   "execution_count": null,
   "id": "53a2ed2c",
   "metadata": {},
   "outputs": [],
   "source": [
    "import sqlite3\n",
    "\n",
    "con = sqlite3.connect('products.db')\n",
    "df_view.to_sql('products', con, if_exists='replace', index=False)\n",
    "q = 'SELECT id, name, price FROM products ORDER BY price DESC LIMIT 5'\n",
    "top5 = pd.read_sql(q, con)\n",
    "con.close()\n",
    "top5\n"
   ]
  },
  {
   "cell_type": "markdown",
   "id": "1c36b2df",
   "metadata": {},
   "source": [
    "## 12) MongoDB (documentos JSON)\n",
    "Útil para estructuras **muy anidadas** o cambiantes (*schema-less*)."
   ]
  },
  {
   "cell_type": "code",
   "execution_count": null,
   "id": "29e10340",
   "metadata": {},
   "outputs": [],
   "source": [
    "# from pymongo import MongoClient  # requeriría servidor de MongoDB\n",
    "# client = MongoClient('mongodb://localhost:27017/')\n",
    "# db = client['ejemplo_db']\n",
    "# docs = df_view.to_dict(orient='records')\n",
    "# db.libros.insert_many(docs)          # usar colección adecuada (ej. 'libros')\n",
    "# db.libros.find_one()\n"
   ]
  },
  {
   "cell_type": "markdown",
   "id": "2c3c6cff",
   "metadata": {},
   "source": [
    "## 13) Validaciones básicas de esquema y valores\n",
    "Control mínimo para garantizar calidad antes de persistir o publicar."
   ]
  },
  {
   "cell_type": "code",
   "execution_count": null,
   "id": "1897eae7",
   "metadata": {},
   "outputs": [],
   "source": [
    "expected_cols = set(['id','name','brand','price','rating']) & set(df_view.columns)\n",
    "missing = expected_cols - set(df_view.columns)\n",
    "print('Columnas esperadas presentes:', expected_cols)\n",
    "print('Faltan columnas:', missing)\n",
    "\n",
    "if 'price' in df_view.columns:\n",
    "    neg = (df_view['price'] < 0).sum()\n",
    "    print('Precios negativos:', neg)\n"
   ]
  },
  {
   "cell_type": "markdown",
   "id": "989bd3fa",
   "metadata": {},
   "source": [
    "## 14) Medición de performance: Parquet (todas vs. subset de columnas)"
   ]
  },
  {
   "cell_type": "code",
   "execution_count": null,
   "id": "ee456146",
   "metadata": {},
   "outputs": [],
   "source": [
    "import time\n",
    "\n",
    "start = time.perf_counter()\n",
    "_ = pd.read_parquet('products.parquet')  # todas las columnas\n",
    "t_all = time.perf_counter() - start\n",
    "\n",
    "cols = [c for c in ['id','name','price'] if c in df_view.columns]\n",
    "start = time.perf_counter()\n",
    "_ = pd.read_parquet('products.parquet', columns=cols if cols else None)\n",
    "t_subset = time.perf_counter() - start\n",
    "\n",
    "print(f'Leer todo: {t_all:.4f}s | Solo {len(cols)} cols: {t_subset:.4f}s')\n"
   ]
  },
  {
   "cell_type": "markdown",
   "id": "93e6f8f1",
   "metadata": {},
   "source": [
    "## ✅ Checklist rápido\n",
    "- [ ] `requests.get(URL)` con `timeout` y chequeo de `status_code`.\n",
    "- [ ] `response.json()` → dict/list de Python.\n",
    "- [ ] `json_normalize` para **aplanar** estructuras anidadas.\n",
    "- [ ] Seleccionar columnas clave (subconjunto mínimo viable).\n",
    "- [ ] Tipar numéricos con `pd.to_numeric` y revisar faltantes.\n",
    "- [ ] Manejar arrays con `explode`.\n",
    "- [ ] Guardar en **Parquet** y, si hace falta, en **Pickle** (seguro).\n",
    "- [ ] (Opcional) Persistir en **SQLite/Mongo** según el caso.\n",
    "- [ ] Medir tiempos de lectura para elegir la mejor estrategia.\n",
    "- [ ] No subir **tokens** ni **pickles** no verificados a repos públicos.\n",
    "\n",
    "## 🧭 Buenas prácticas\n",
    "- Documentá el contrato de la API (estructura de respuesta, paginación, límites, autenticación).\n",
    "- Usá variables de entorno para secretos (`os.getenv`).\n",
    "- Versioná tus *notebooks* y exportá datasets intermedios en Parquet.\n",
    "- Validá esquema (columnas obligatorias) y reglas de negocio antes de persistir.\n"
   ]
  }
 ],
 "metadata": {
  "language_info": {
   "name": "python"
  }
 },
 "nbformat": 4,
 "nbformat_minor": 5
}
