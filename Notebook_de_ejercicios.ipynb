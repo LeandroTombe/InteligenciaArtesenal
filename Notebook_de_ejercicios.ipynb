{
 "cells": [
  {
   "cell_type": "markdown",
   "id": "2746c952",
   "metadata": {},
   "source": [
    "# <div style=\"background-color: #b74ff8ff; padding:10px; border-radius:10px; color: #ffffffff; font-weight: bold\"> 📝 Notebook de ejercicios </div>\n",
    "\n",
    "<div style=\"background-color: #acf0f7ff; padding:10px; border-radius:10px\"> Este notebook esta destinado a exponer\n",
    "\n",
    "1. **Ejercicio propuesto**\n",
    "2. **Desafio corto**\n",
    "\n",
    "Ambos propuestos por el equipo **Inteligencia Artesanal**🧉</div>\n",
    "<br>\n",
    "\n",
    "---"
   ]
  },
  {
   "cell_type": "markdown",
   "id": "5b72015c",
   "metadata": {},
   "source": [
    "## <div style=\"background-color: #ff83b7ff; padding:10px; border-radius:10px; color: #ffffffff\"> 1. Ejercicio Propuesto </div>"
   ]
  },
  {
   "cell_type": "markdown",
   "id": "76d0dce8",
   "metadata": {},
   "source": [
    "<div style=\"background-color: #abdbe3ff; padding:10px; border-radius:10px\"> <p>Imagina que eres analista de datos en una empresa que recibe registros de clientes desde múltiples fuentes (formularios web, exportes legacy y hojas de cálculo). <em>Los datos llegan con errores típicos: marcadores de faltantes inconsistentes (\"N/A\", \"NULL\", \"?\", cadena vacía), símbolos en números ($, ,), fechas en formatos mixtos y texto con espacios/uso de mayúsculas irregular. Y debes organizar estos datos para presentarlos a los directivos. <strong>¿Cómo lo harías?</strong></em></p></div>\n",
    "\n",
    "<div><p><strong>Para hacerlo te damos unas pistas 💡:</strong></p></div>\n",
    "<div> \n",
    "    <ol style=\"list-style:none; padding-left:0;\">\n",
    "    <li style=\"margin:6px 0;\">\n",
    "        <span style=\"display:inline-block; width:30px; height:24px; line-height:24px; text-align:center; border-radius:6px; background:#ef4444; color:#fff; font-weight:700; margin-right:10px;\">1</span>\n",
    "        Detectar valores nulos como <code>N/A</code>, <code>NULL</code>, <code>?</code> y convertirlos a <code>NaN</code>.\n",
    "    </li>\n",
    "    <li style=\"margin:6px 0;\">\n",
    "        <span style=\"display:inline-block; width:30px; height:24px; line-height:24px; text-align:center; border-radius:6px; background:#f59e0b; color:#fff; font-weight:700; margin-right:10px;\">2</span>\n",
    "        Reemplazar marcadores faltantes por <code>NaN</code>.\n",
    "    </li>\n",
    "    <li style=\"margin:6px 0;\">\n",
    "        <span style=\"display:inline-block; width:30px; height:24px; line-height:24px; text-align:center; border-radius:6px; background:#10b981; color:#fff; font-weight:700; margin-right:10px;\">3</span>\n",
    "        Convertir tipos de datos: números y fechas.\n",
    "    </li>\n",
    "    <li style=\"margin:6px 0;\">\n",
    "        <span style=\"display:inline-block; width:30px; height:24px; line-height:24px; text-align:center; border-radius:6px; background:#60a5fa; color:#fff; font-weight:700; margin-right:10px;\">4</span>\n",
    "        Limpiar texto como <em>Customer Name</em> y <em>Gender</em>.\n",
    "    </li>\n",
    "    </ol>\n",
    "</div>"
   ]
  },
  {
   "cell_type": "markdown",
   "id": "5ecfba08",
   "metadata": {},
   "source": [
    ">🚨Recuerda🚨 <em>Para realizar este ejercicio puedes encontrar toda la información teorica necesaria en <code>Notebook_demo</code> </em>\n",
    ">\n",
    "> Para poder hacer este ejercicio vamos a usar un Dataset en crudo."
   ]
  },
  {
   "cell_type": "markdown",
   "id": "bc169f67",
   "metadata": {},
   "source": [
    "### <div style=\"color: #dda639ff\">Dataset en crudo antes de empezar </div>"
   ]
  },
  {
   "cell_type": "code",
   "execution_count": 9,
   "id": "963d56b0",
   "metadata": {},
   "outputs": [
    {
     "name": "stdout",
     "output_type": "stream",
     "text": [
      "📊 Dataset de clientes cargado desde JSON:\n",
      "   📄 Dimensiones: 6 filas x 4 columnas\n",
      "\n",
      "🔍 Primeras 5 filas del dataset crudo:\n"
     ]
    },
    {
     "data": {
      "text/html": [
       "<div>\n",
       "<style scoped>\n",
       "    .dataframe tbody tr th:only-of-type {\n",
       "        vertical-align: middle;\n",
       "    }\n",
       "\n",
       "    .dataframe tbody tr th {\n",
       "        vertical-align: top;\n",
       "    }\n",
       "\n",
       "    .dataframe thead th {\n",
       "        text-align: right;\n",
       "    }\n",
       "</style>\n",
       "<table border=\"1\" class=\"dataframe\">\n",
       "  <thead>\n",
       "    <tr style=\"text-align: right;\">\n",
       "      <th></th>\n",
       "      <th>Customer Name</th>\n",
       "      <th>Income</th>\n",
       "      <th>Signup Date</th>\n",
       "      <th>Gender</th>\n",
       "    </tr>\n",
       "  </thead>\n",
       "  <tbody>\n",
       "    <tr>\n",
       "      <th>0</th>\n",
       "      <td>John Doe</td>\n",
       "      <td>$50,000</td>\n",
       "      <td>12/05/2022</td>\n",
       "      <td>M</td>\n",
       "    </tr>\n",
       "    <tr>\n",
       "      <th>1</th>\n",
       "      <td>JANE DOE</td>\n",
       "      <td>N/A</td>\n",
       "      <td>2021-07-30</td>\n",
       "      <td>Female</td>\n",
       "    </tr>\n",
       "    <tr>\n",
       "      <th>2</th>\n",
       "      <td>Alice smith</td>\n",
       "      <td>$2,500</td>\n",
       "      <td>15/07/2020</td>\n",
       "      <td>female</td>\n",
       "    </tr>\n",
       "    <tr>\n",
       "      <th>3</th>\n",
       "      <td>Mário   Santos</td>\n",
       "      <td>10000</td>\n",
       "      <td>15/07/2023</td>\n",
       "      <td>F</td>\n",
       "    </tr>\n",
       "    <tr>\n",
       "      <th>4</th>\n",
       "      <td></td>\n",
       "      <td>?</td>\n",
       "      <td>N/A</td>\n",
       "      <td>?</td>\n",
       "    </tr>\n",
       "    <tr>\n",
       "      <th>5</th>\n",
       "      <td>NULL</td>\n",
       "      <td>NULL</td>\n",
       "      <td>NULL</td>\n",
       "      <td>NULL</td>\n",
       "    </tr>\n",
       "  </tbody>\n",
       "</table>\n",
       "</div>"
      ],
      "text/plain": [
       "    Customer Name   Income Signup Date  Gender\n",
       "0       John Doe   $50,000  12/05/2022       M\n",
       "1        JANE DOE      N/A  2021-07-30  Female\n",
       "2     Alice smith   $2,500  15/07/2020  female\n",
       "3  Mário   Santos    10000  15/07/2023       F\n",
       "4                        ?         N/A       ?\n",
       "5            NULL     NULL        NULL    NULL"
      ]
     },
     "metadata": {},
     "output_type": "display_data"
    }
   ],
   "source": [
    "import pandas as pd\n",
    "import numpy as np\n",
    "import os\n",
    "import sqlite3\n",
    "from IPython.display import display\n",
    "\n",
    "# Leer JSON directamente en un DataFrame\n",
    "df = pd.read_json(\"datasets/clientes.json\", encoding=\"utf-8\")\n",
    "\n",
    "print(\"📊 Dataset de clientes cargado desde JSON:\")\n",
    "print(f\"   📄 Dimensiones: {df.shape[0]} filas x {df.shape[1]} columnas\")\n",
    "\n",
    "print(\"\\n🔍 Primeras 5 filas del dataset crudo:\")\n",
    "display(df.head(6))\n",
    "\n",
    "# Guardar copia del dataset original para comparación posterior\n",
    "df_original = df.copy()\n"
   ]
  },
  {
   "cell_type": "markdown",
   "id": "e72c25c7",
   "metadata": {},
   "source": [
    "### <div style=\"background-color: #fbc7ddff; padding:10px; border-radius:10px\"> 🚀 Solución al ejercicio propuesto </div>\n",
    "#### <div style=\"color: #dda639ff\"> 1. Detectar valores nulos como `N/A`,`NULL,?` y convertirlos a `NaN`. </div>\n",
    "Antes de limpiar, verificamos cuántos **nulos reales** detecta pandas (notar que aún no convertimos marcadores como `N/A`, `NULL`, `?` a `NaN`)."
   ]
  },
  {
   "cell_type": "code",
   "execution_count": 10,
   "id": "41590dff",
   "metadata": {},
   "outputs": [
    {
     "name": "stdout",
     "output_type": "stream",
     "text": [
      "Valores nulos antes de la limpieza:\n"
     ]
    },
    {
     "data": {
      "text/plain": [
       "Customer Name    0\n",
       "Income           0\n",
       "Signup Date      0\n",
       "Gender           0\n",
       "dtype: int64"
      ]
     },
     "execution_count": 10,
     "metadata": {},
     "output_type": "execute_result"
    }
   ],
   "source": [
    "print(\"Valores nulos antes de la limpieza:\")\n",
    "df.isna().sum()"
   ]
  },
  {
   "cell_type": "markdown",
   "id": "7c690178",
   "metadata": {},
   "source": [
    "#### <div style=\"color: #dda639ff\"> 2. Reemplazar marcadores faltantes por `NaN` </div>\n",
    "Convertimos `\"\"` (cadena vacía), `\"?\"`, `\"N/A\"` y `\"NULL\"` a `NaN` para que pandas los trate como faltantes."
   ]
  },
  {
   "cell_type": "code",
   "execution_count": 11,
   "id": "08186f47",
   "metadata": {},
   "outputs": [
    {
     "name": "stdout",
     "output_type": "stream",
     "text": [
      "Valores nulos después del reemplazo:\n"
     ]
    },
    {
     "data": {
      "text/plain": [
       "Customer Name    2\n",
       "Income           3\n",
       "Signup Date      2\n",
       "Gender           2\n",
       "dtype: int64"
      ]
     },
     "execution_count": 11,
     "metadata": {},
     "output_type": "execute_result"
    }
   ],
   "source": [
    "df = df.replace([\"\", \"?\", \"N/A\", \"NULL\"], np.nan)\n",
    "print(\"Valores nulos después del reemplazo:\")\n",
    "df.isna().sum()"
   ]
  },
  {
   "cell_type": "markdown",
   "id": "b35c548e",
   "metadata": {},
   "source": [
    "\n",
    "#### <div style=\"color: #dda639ff\"> 3. Convertir tipos de datos: números y fechas. </div>\n",
    "**Income:** remover símbolos (`$`, `,`) y convertir a numérico.  \n",
    "**Signup Date:** convertir a `datetime`, tolerando formatos mixtos y errores.\n"
   ]
  },
  {
   "cell_type": "code",
   "execution_count": 12,
   "id": "73afed0b",
   "metadata": {},
   "outputs": [
    {
     "name": "stdout",
     "output_type": "stream",
     "text": [
      " Tipos de datos después de conversión:\n"
     ]
    },
    {
     "data": {
      "text/plain": [
       "Customer Name            object\n",
       "Income                  float64\n",
       "Signup Date      datetime64[ns]\n",
       "Gender                   object\n",
       "dtype: object"
      ]
     },
     "execution_count": 12,
     "metadata": {},
     "output_type": "execute_result"
    }
   ],
   "source": [
    "# Income a numérico (con manejo seguro de NaN)\n",
    "df['Income'] = df['Income'].astype(str).str.replace(r'[\\$,]', '', regex=True)\n",
    "df['Income'] = pd.to_numeric(df['Income'], errors='coerce')\n",
    "\n",
    "# Signup Date a datetime (dd/mm/yyyy y yyyy-mm-dd)\n",
    "df['Signup Date'] = pd.to_datetime(df['Signup Date'], dayfirst=True, errors='coerce')\n",
    "\n",
    "print(\" Tipos de datos después de conversión:\")\n",
    "df.dtypes"
   ]
  },
  {
   "cell_type": "markdown",
   "id": "bed98d09",
   "metadata": {},
   "source": [
    "\n",
    "#### <div style=\"color: #dda639ff\"> 4. Limpiar texto como `Customer Name` y `Gender` </div>\n",
    "- `Customer Name`: quitar espacios extra y normalizar a *Title Case*.  \n",
    "- `Gender`: normalizar a categorías **Male/Female**.\n"
   ]
  },
  {
   "cell_type": "code",
   "execution_count": 13,
   "id": "d8e1794b",
   "metadata": {},
   "outputs": [
    {
     "name": "stdout",
     "output_type": "stream",
     "text": [
      "Limpieza de texto completada:\n"
     ]
    },
    {
     "data": {
      "text/html": [
       "<div>\n",
       "<style scoped>\n",
       "    .dataframe tbody tr th:only-of-type {\n",
       "        vertical-align: middle;\n",
       "    }\n",
       "\n",
       "    .dataframe tbody tr th {\n",
       "        vertical-align: top;\n",
       "    }\n",
       "\n",
       "    .dataframe thead th {\n",
       "        text-align: right;\n",
       "    }\n",
       "</style>\n",
       "<table border=\"1\" class=\"dataframe\">\n",
       "  <thead>\n",
       "    <tr style=\"text-align: right;\">\n",
       "      <th></th>\n",
       "      <th>Customer Name</th>\n",
       "      <th>Gender</th>\n",
       "    </tr>\n",
       "  </thead>\n",
       "  <tbody>\n",
       "    <tr>\n",
       "      <th>0</th>\n",
       "      <td>John Doe</td>\n",
       "      <td>Male</td>\n",
       "    </tr>\n",
       "    <tr>\n",
       "      <th>1</th>\n",
       "      <td>Jane Doe</td>\n",
       "      <td>Female</td>\n",
       "    </tr>\n",
       "    <tr>\n",
       "      <th>2</th>\n",
       "      <td>Alice Smith</td>\n",
       "      <td>Female</td>\n",
       "    </tr>\n",
       "    <tr>\n",
       "      <th>3</th>\n",
       "      <td>Mário Santos</td>\n",
       "      <td>Female</td>\n",
       "    </tr>\n",
       "    <tr>\n",
       "      <th>4</th>\n",
       "      <td>Nan</td>\n",
       "      <td>NaN</td>\n",
       "    </tr>\n",
       "    <tr>\n",
       "      <th>5</th>\n",
       "      <td>Nan</td>\n",
       "      <td>NaN</td>\n",
       "    </tr>\n",
       "  </tbody>\n",
       "</table>\n",
       "</div>"
      ],
      "text/plain": [
       "  Customer Name  Gender\n",
       "0      John Doe    Male\n",
       "1      Jane Doe  Female\n",
       "2   Alice Smith  Female\n",
       "3  Mário Santos  Female\n",
       "4           Nan     NaN\n",
       "5           Nan     NaN"
      ]
     },
     "execution_count": 13,
     "metadata": {},
     "output_type": "execute_result"
    }
   ],
   "source": [
    "# Customer Name: strip + espacios múltiples a uno + Title Case (manejo seguro)\n",
    "df['Customer Name'] = df['Customer Name'].astype(str).str.strip()\n",
    "df['Customer Name'] = df['Customer Name'].str.replace(r'\\s+', ' ', regex=True)\n",
    "df['Customer Name'] = df['Customer Name'].str.title()\n",
    "\n",
    "# Gender: normalizar (manejo seguro de NaN)\n",
    "df['Gender'] = df['Gender'].astype(str).str.strip().str.lower()\n",
    "df['Gender'] = df['Gender'].replace({'m': 'male', 'male': 'male', 'f': 'female', 'female': 'female', 'nan': np.nan})\n",
    "df['Gender'] = df['Gender'].str.capitalize()\n",
    "\n",
    "print(\"Limpieza de texto completada:\")\n",
    "df[['Customer Name','Gender']]"
   ]
  },
  {
   "cell_type": "markdown",
   "id": "b27968e8",
   "metadata": {},
   "source": [
    "Una vez que tenemos el dataset \"limpio\" podemos hacer lo siguiente:\n",
    "- (Opcional) Remover filas sin información clave.  \n",
    "- Resetear el índice.  \n",
    "- Revisar el estado final del DataFrame.\n",
    "\n",
    "Esto permitira ver solo los registros con datos relevantes"
   ]
  },
  {
   "cell_type": "code",
   "execution_count": 14,
   "id": "cbb15ab3",
   "metadata": {},
   "outputs": [
    {
     "name": "stdout",
     "output_type": "stream",
     "text": [
      "✅ Filas válidas después de limpieza:\n",
      "   📊 Antes: 6 filas\n",
      "   📊 Después: 3 filas\n",
      "   🗑️ Eliminadas: 3 filas\n",
      "\n",
      "📋 Tipos de datos finales:\n"
     ]
    },
    {
     "data": {
      "text/plain": [
       "Customer Name            object\n",
       "Income                  float64\n",
       "Signup Date      datetime64[ns]\n",
       "Gender                   object\n",
       "dtype: object"
      ]
     },
     "metadata": {},
     "output_type": "display_data"
    },
    {
     "name": "stdout",
     "output_type": "stream",
     "text": [
      "\n",
      "📄 DataFrame final:\n"
     ]
    },
    {
     "data": {
      "text/html": [
       "<div>\n",
       "<style scoped>\n",
       "    .dataframe tbody tr th:only-of-type {\n",
       "        vertical-align: middle;\n",
       "    }\n",
       "\n",
       "    .dataframe tbody tr th {\n",
       "        vertical-align: top;\n",
       "    }\n",
       "\n",
       "    .dataframe thead th {\n",
       "        text-align: right;\n",
       "    }\n",
       "</style>\n",
       "<table border=\"1\" class=\"dataframe\">\n",
       "  <thead>\n",
       "    <tr style=\"text-align: right;\">\n",
       "      <th></th>\n",
       "      <th>Customer Name</th>\n",
       "      <th>Income</th>\n",
       "      <th>Signup Date</th>\n",
       "      <th>Gender</th>\n",
       "    </tr>\n",
       "  </thead>\n",
       "  <tbody>\n",
       "    <tr>\n",
       "      <th>0</th>\n",
       "      <td>John Doe</td>\n",
       "      <td>50000.0</td>\n",
       "      <td>2022-05-12</td>\n",
       "      <td>Male</td>\n",
       "    </tr>\n",
       "    <tr>\n",
       "      <th>1</th>\n",
       "      <td>Alice Smith</td>\n",
       "      <td>2500.0</td>\n",
       "      <td>2020-07-15</td>\n",
       "      <td>Female</td>\n",
       "    </tr>\n",
       "    <tr>\n",
       "      <th>2</th>\n",
       "      <td>Mário Santos</td>\n",
       "      <td>10000.0</td>\n",
       "      <td>2023-07-15</td>\n",
       "      <td>Female</td>\n",
       "    </tr>\n",
       "  </tbody>\n",
       "</table>\n",
       "</div>"
      ],
      "text/plain": [
       "  Customer Name   Income Signup Date  Gender\n",
       "0      John Doe  50000.0  2022-05-12    Male\n",
       "1   Alice Smith   2500.0  2020-07-15  Female\n",
       "2  Mário Santos  10000.0  2023-07-15  Female"
      ]
     },
     "execution_count": 14,
     "metadata": {},
     "output_type": "execute_result"
    }
   ],
   "source": [
    "\n",
    "# Ejemplo: eliminar filas sin nombre e ingreso\n",
    "df_clean = df.dropna(subset=['Customer Name', 'Income'], how='any').reset_index(drop=True)\n",
    "\n",
    "print(\"✅ Filas válidas después de limpieza:\")\n",
    "print(f\"   📊 Antes: {len(df)} filas\")\n",
    "print(f\"   📊 Después: {len(df_clean)} filas\")\n",
    "print(f\"   🗑️ Eliminadas: {len(df) - len(df_clean)} filas\")\n",
    "\n",
    "print(\"\\n📋 Tipos de datos finales:\")\n",
    "display(df_clean.dtypes)\n",
    "\n",
    "print(\"\\n📄 DataFrame final:\")\n",
    "df_clean\n"
   ]
  },
  {
   "cell_type": "markdown",
   "id": "c4250746",
   "metadata": {},
   "source": [
    "#### <div style=\"color: #dda639ff\"> Etapa final: **Antes vs. Después** </div>\n",
    "Para visualizar el impacto de la limpieza, mostramos una tabla comparativa con algunas filas del dataset original frente al dataset limpio."
   ]
  },
  {
   "cell_type": "code",
   "execution_count": 21,
   "id": "ab82b10a",
   "metadata": {},
   "outputs": [
    {
     "name": "stdout",
     "output_type": "stream",
     "text": [
      "📊 COMPARACIÓN COMPLETA - ANTES VS DESPUÉS\n",
      "============================================================\n",
      "\n",
      "🔴 ANTES (datos crudos):\n",
      "------------------------------\n"
     ]
    },
    {
     "data": {
      "text/html": [
       "<div>\n",
       "<style scoped>\n",
       "    .dataframe tbody tr th:only-of-type {\n",
       "        vertical-align: middle;\n",
       "    }\n",
       "\n",
       "    .dataframe tbody tr th {\n",
       "        vertical-align: top;\n",
       "    }\n",
       "\n",
       "    .dataframe thead th {\n",
       "        text-align: right;\n",
       "    }\n",
       "</style>\n",
       "<table border=\"1\" class=\"dataframe\">\n",
       "  <thead>\n",
       "    <tr style=\"text-align: right;\">\n",
       "      <th></th>\n",
       "      <th>Customer Name</th>\n",
       "      <th>Income</th>\n",
       "      <th>Signup Date</th>\n",
       "      <th>Gender</th>\n",
       "    </tr>\n",
       "  </thead>\n",
       "  <tbody>\n",
       "    <tr>\n",
       "      <th>0</th>\n",
       "      <td>John Doe</td>\n",
       "      <td>$50,000</td>\n",
       "      <td>12/05/2022</td>\n",
       "      <td>M</td>\n",
       "    </tr>\n",
       "    <tr>\n",
       "      <th>1</th>\n",
       "      <td>JANE DOE</td>\n",
       "      <td>N/A</td>\n",
       "      <td>2021-07-30</td>\n",
       "      <td>Female</td>\n",
       "    </tr>\n",
       "    <tr>\n",
       "      <th>2</th>\n",
       "      <td>Alice smith</td>\n",
       "      <td>$2,500</td>\n",
       "      <td>15/07/2020</td>\n",
       "      <td>female</td>\n",
       "    </tr>\n",
       "    <tr>\n",
       "      <th>3</th>\n",
       "      <td>Mário   Santos</td>\n",
       "      <td>10000</td>\n",
       "      <td>15/07/2023</td>\n",
       "      <td>F</td>\n",
       "    </tr>\n",
       "    <tr>\n",
       "      <th>4</th>\n",
       "      <td></td>\n",
       "      <td>?</td>\n",
       "      <td>N/A</td>\n",
       "      <td>?</td>\n",
       "    </tr>\n",
       "    <tr>\n",
       "      <th>5</th>\n",
       "      <td>NULL</td>\n",
       "      <td>NULL</td>\n",
       "      <td>NULL</td>\n",
       "      <td>NULL</td>\n",
       "    </tr>\n",
       "  </tbody>\n",
       "</table>\n",
       "</div>"
      ],
      "text/plain": [
       "    Customer Name   Income Signup Date  Gender\n",
       "0       John Doe   $50,000  12/05/2022       M\n",
       "1        JANE DOE      N/A  2021-07-30  Female\n",
       "2     Alice smith   $2,500  15/07/2020  female\n",
       "3  Mário   Santos    10000  15/07/2023       F\n",
       "4                        ?         N/A       ?\n",
       "5            NULL     NULL        NULL    NULL"
      ]
     },
     "metadata": {},
     "output_type": "display_data"
    },
    {
     "name": "stdout",
     "output_type": "stream",
     "text": [
      "\n",
      "🟢 DESPUÉS (datos limpios):\n",
      "------------------------------\n"
     ]
    },
    {
     "data": {
      "text/html": [
       "<div>\n",
       "<style scoped>\n",
       "    .dataframe tbody tr th:only-of-type {\n",
       "        vertical-align: middle;\n",
       "    }\n",
       "\n",
       "    .dataframe tbody tr th {\n",
       "        vertical-align: top;\n",
       "    }\n",
       "\n",
       "    .dataframe thead th {\n",
       "        text-align: right;\n",
       "    }\n",
       "</style>\n",
       "<table border=\"1\" class=\"dataframe\">\n",
       "  <thead>\n",
       "    <tr style=\"text-align: right;\">\n",
       "      <th></th>\n",
       "      <th>Customer Name</th>\n",
       "      <th>Income</th>\n",
       "      <th>Signup Date</th>\n",
       "      <th>Gender</th>\n",
       "    </tr>\n",
       "  </thead>\n",
       "  <tbody>\n",
       "    <tr>\n",
       "      <th>0</th>\n",
       "      <td>John Doe</td>\n",
       "      <td>50000.0</td>\n",
       "      <td>2022-05-12</td>\n",
       "      <td>Male</td>\n",
       "    </tr>\n",
       "    <tr>\n",
       "      <th>1</th>\n",
       "      <td>Alice Smith</td>\n",
       "      <td>2500.0</td>\n",
       "      <td>2020-07-15</td>\n",
       "      <td>Female</td>\n",
       "    </tr>\n",
       "    <tr>\n",
       "      <th>2</th>\n",
       "      <td>Mário Santos</td>\n",
       "      <td>10000.0</td>\n",
       "      <td>2023-07-15</td>\n",
       "      <td>Female</td>\n",
       "    </tr>\n",
       "  </tbody>\n",
       "</table>\n",
       "</div>"
      ],
      "text/plain": [
       "  Customer Name   Income Signup Date  Gender\n",
       "0      John Doe  50000.0  2022-05-12    Male\n",
       "1   Alice Smith   2500.0  2020-07-15  Female\n",
       "2  Mário Santos  10000.0  2023-07-15  Female"
      ]
     },
     "metadata": {},
     "output_type": "display_data"
    },
    {
     "name": "stdout",
     "output_type": "stream",
     "text": [
      "\n",
      "📊 RESUMEN DE LA LIMPIEZA:\n",
      "   📊 Registros originales: 6\n",
      "   📊 Registros finales: 3\n",
      "   🗑️ Registros eliminados: 3\n",
      "   📈 Tasa de conservación: 50.0%\n"
     ]
    }
   ],
   "source": [
    "\n",
    "print(\"📊 COMPARACIÓN COMPLETA - ANTES VS DESPUÉS\")\n",
    "print(\"=\" * 60)\n",
    "\n",
    "print(\"\\n🔴 ANTES (datos crudos):\")\n",
    "print(\"-\" * 30)\n",
    "display(df_original)\n",
    "\n",
    "print(\"\\n🟢 DESPUÉS (datos limpios):\")\n",
    "print(\"-\" * 30)\n",
    "display(df_clean)\n",
    "\n",
    "# Resumen de la transformación\n",
    "print(f\"\\n📊 RESUMEN DE LA LIMPIEZA:\")\n",
    "print(f\"   📊 Registros originales: {len(df_original)}\")\n",
    "print(f\"   📊 Registros finales: {len(df_clean)}\")\n",
    "print(f\"   🗑️ Registros eliminados: {len(df_original) - len(df_clean)}\")\n",
    "print(f\"   📈 Tasa de conservación: {(len(df_clean)/len(df_original)*100):.1f}%\")"
   ]
  },
  {
   "cell_type": "markdown",
   "id": "09338bf8",
   "metadata": {},
   "source": [
    "#### <div style=\"color: #dda639ff\"> Paso extra 📎 </div>\n",
    "\n",
    "Como actividad extra podemos exportar el dataset resultante en diferentes formatos.\n",
    "\n",
    "La idea es **Crear una carpeta \"export\" donde se alojaran los archivos con el dataset resultante.**\n",
    "Podemos convertir el dataset completo en tipos de archivos que nos sean utiles, por ejemplo los que vimos en la teoria (csv, excel, json, sql)"
   ]
  },
  {
   "cell_type": "code",
   "execution_count": 14,
   "id": "009912b0-0399-4862-9a27-7c073d230acf",
   "metadata": {},
   "outputs": [
    {
     "name": "stdout",
     "output_type": "stream",
     "text": [
      "Exportando dataset de clientes limpios...\n",
      "CSV exportado: export/clientes_limpios.csv\n",
      "Excel exportado: export/clientes_limpios.xlsx\n",
      "JSON exportado: export/clientes_limpios.json\n",
      "Base de datos SQLite creada: export/clientes_database.db\n"
     ]
    }
   ],
   "source": [
    "# Crear carpeta \"export\" si no existe\n",
    "os.makedirs(\"export\", exist_ok=True)\n",
    "\n",
    "print(\"Exportando dataset de clientes limpios...\")\n",
    "\n",
    "# 1) CSV - formato más universal para análisis de datos\n",
    "df_clean.to_csv(\"export/clientes_limpios.csv\", index=False, encoding=\"utf-8\")\n",
    "print(\"CSV exportado: export/clientes_limpios.csv\")\n",
    "\n",
    "# 2) Excel - formato empresarial estándar\n",
    "df_clean.to_excel(\"export/clientes_limpios.xlsx\", index=False)\n",
    "print(\"Excel exportado: export/clientes_limpios.xlsx\")\n",
    "\n",
    "# 3) JSON - formato para APIs y aplicaciones web\n",
    "df_clean.to_json(\"export/clientes_limpios.json\", orient=\"records\", indent=2, force_ascii=False)\n",
    "print(\"JSON exportado: export/clientes_limpios.json\")\n",
    "\n",
    "# 4) SQL (SQLite) - base de datos para consultas complejas\n",
    "con = sqlite3.connect(\"export/clientes_database.db\")\n",
    "df_clean.to_sql(\"clientes_limpios\", con, if_exists=\"replace\", index=False)\n",
    "con.close()\n",
    "print(\"Base de datos SQLite creada: export/clientes_database.db\")\n",
    "\n"
   ]
  },
  {
   "cell_type": "markdown",
   "id": "987928de",
   "metadata": {},
   "source": [
    "---\n",
    "## <div style=\"background-color: #ff83b7ff; padding:10px; border-radius:10px; color: #ffffffff\"> 2. Desafio corto </div>"
   ]
  },
  {
   "cell_type": "markdown",
   "id": "56f264f8",
   "metadata": {},
   "source": [
    "***Objetivo:** detectar y contar valores faltantes en un dataset pequeño.*\n",
    "\n",
    "### 📝 Consigna\n",
    "Con el CSV de ejemplo que se muestra al final, realizar las siguientes acciones:\n",
    "\n",
    "1. Cargar el CSV\n",
    "2. Mostrar el Dataframe original\n",
    "3. Comprobar los valores faltantes\n",
    "4. Imputar los valores de de edades faltantes con *0*\n",
    "5. Imprimir el Dataframe final\n",
    "6. Exportar a su extencion de preferencia\n",
    "   \n",
    "\n",
    "\n",
    "**CSV de ejemplo**\n",
    "   ```csv\n",
    "   id,nombre,edad\n",
    "   1,Ana,23\n",
    "   2,Beto,\n",
    "   3,Caro,31\n",
    "   4,,27\n",
    "   5,Diego,\n"
   ]
  },
  {
   "cell_type": "code",
   "execution_count": 15,
   "id": "abafa14e",
   "metadata": {},
   "outputs": [
    {
     "name": "stdout",
     "output_type": "stream",
     "text": [
      "DataFrame original:\n",
      "    id nombre  edad\n",
      "0   1    Ana  23.0\n",
      "1   2   Beto   NaN\n",
      "2   3   Caro  31.0\n",
      "3   4    NaN  27.0\n",
      "4   5  Diego   NaN \n",
      "\n",
      "Valores faltantes por columna:\n",
      " id        0\n",
      "nombre    1\n",
      "edad      2\n",
      "dtype: int64 \n",
      "\n",
      "Porcentaje de valores faltantes en 'edad': 40.00%\n",
      "\n"
     ]
    }
   ],
   "source": [
    "import pandas as pd\n",
    "from io import StringIO\n",
    "\n",
    "# 1) Cargar CSV\n",
    "csv = StringIO(\"\"\"id,nombre,edad\n",
    "1,Ana,23\n",
    "2,Beto,\n",
    "3,Caro,31\n",
    "4,,27\n",
    "5,Diego,\n",
    "\"\"\")\n",
    "df = pd.read_csv(csv)\n",
    "\n",
    "# 2) Mostrar DataFrame\n",
    "print(\"DataFrame original:\\n\", df, \"\\n\")\n",
    "\n",
    "# 3) Valores faltantes\n",
    "print(\"Valores faltantes por columna:\\n\", df.isna().sum(), \"\\n\")\n",
    "\n",
    "faltantes_pct = df[\"edad\"].isna().mean() * 100\n",
    "print(f\"Porcentaje de valores faltantes en 'edad': {faltantes_pct:.2f}%\\n\")\n"
   ]
  },
  {
   "cell_type": "code",
   "execution_count": null,
   "id": "e62a5786-d92b-4845-b682-f962ce8b9757",
   "metadata": {},
   "outputs": [],
   "source": []
  },
  {
   "cell_type": "code",
   "execution_count": null,
   "id": "62d73e04-4c86-483b-9f62-718c4c3c5c97",
   "metadata": {},
   "outputs": [],
   "source": []
  }
 ],
 "metadata": {
  "kernelspec": {
   "display_name": "Python 3 (ipykernel)",
   "language": "python",
   "name": "python3"
  },
  "language_info": {
   "codemirror_mode": {
    "name": "ipython",
    "version": 3
   },
   "file_extension": ".py",
   "mimetype": "text/x-python",
   "name": "python",
   "nbconvert_exporter": "python",
   "pygments_lexer": "ipython3",
   "version": "3.13.7"
  }
 },
 "nbformat": 4,
 "nbformat_minor": 5
}
