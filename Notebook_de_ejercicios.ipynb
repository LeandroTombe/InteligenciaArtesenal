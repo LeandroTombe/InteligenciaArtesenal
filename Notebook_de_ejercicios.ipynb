{
 "cells": [
  {
   "cell_type": "markdown",
   "id": "2746c952",
   "metadata": {},
   "source": [
    "# <div style=\"background-color: #b74ff8ff; padding:10px; border-radius:10px; color: #ffffffff; font-weight: bold\"> 📝 Ejercicio propuesto </div>\n",
    "<div style=\"background-color: #abdbe3ff; padding:10px; border-radius:10px\"> <p>Imagina que eres analista de datos en una empresa que recibe registros de clientes desde múltiples fuentes (formularios web, exportes legacy y hojas de cálculo). <em>Los datos llegan con errores típicos: marcadores de faltantes inconsistentes (\"N/A\", \"NULL\", \"?\", cadena vacía), símbolos en números ($, ,), fechas en formatos mixtos y texto con espacios/uso de mayúsculas irregular. Y debes organizar estos datos para presentarlos a los directivos. <strong>¿Cómo lo harías?</strong></em></p></div>\n",
    "\n",
    "<div><p><strong>Para hacerlo te damos unas pistas 💡:</strong></p></div>\n",
    "<div> \n",
    "    <ol style=\"list-style:none; padding-left:0;\">\n",
    "    <li style=\"margin:6px 0;\">\n",
    "        <span style=\"display:inline-block; width:30px; height:24px; line-height:24px; text-align:center; border-radius:6px; background:#ef4444; color:#fff; font-weight:700; margin-right:10px;\">1</span>\n",
    "        Detectar valores nulos como <code>N/A</code>, <code>NULL</code>, <code>?</code> y convertirlos a <code>NaN</code>.\n",
    "    </li>\n",
    "    <li style=\"margin:6px 0;\">\n",
    "        <span style=\"display:inline-block; width:30px; height:24px; line-height:24px; text-align:center; border-radius:6px; background:#f59e0b; color:#fff; font-weight:700; margin-right:10px;\">2</span>\n",
    "        Reemplazar marcadores faltantes por <code>NaN</code>.\n",
    "    </li>\n",
    "    <li style=\"margin:6px 0;\">\n",
    "        <span style=\"display:inline-block; width:30px; height:24px; line-height:24px; text-align:center; border-radius:6px; background:#10b981; color:#fff; font-weight:700; margin-right:10px;\">3</span>\n",
    "        Convertir tipos de datos: números y fechas.\n",
    "    </li>\n",
    "    <li style=\"margin:6px 0;\">\n",
    "        <span style=\"display:inline-block; width:30px; height:24px; line-height:24px; text-align:center; border-radius:6px; background:#60a5fa; color:#fff; font-weight:700; margin-right:10px;\">4</span>\n",
    "        Limpiar texto como <em>Customer Name</em> y <em>Gender</em>.\n",
    "    </li>\n",
    "    </ol>\n",
    "</div>"
   ]
  },
  {
   "cell_type": "markdown",
   "id": "5ecfba08",
   "metadata": {},
   "source": [
    ">🚨Recuerda🚨 <em>Para realizar este ejercicio puedes encontrar toda la información teorica necesaria en <code>Notebook_demo</code> </em>"
   ]
  },
  {
   "cell_type": "markdown",
   "id": "15973986",
   "metadata": {},
   "source": [
    "\n",
    "## 1) Dataset crudo (de ejemplo)\n",
    "Generamos un DataFrame con problemas comunes para demostrar los pasos de limpieza.\n"
   ]
  },
  {
   "cell_type": "code",
   "execution_count": 1,
   "id": "963d56b0",
   "metadata": {},
   "outputs": [
    {
     "name": "stdout",
     "output_type": "stream",
     "text": [
      "Datos de ejemplo (crudos):\n"
     ]
    }
   ],
   "source": [
    "\n",
    "import pandas as pd\n",
    "import numpy as np\n",
    "import os\n",
    "import sqlite3\n",
    "\n",
    "\n",
    "\n",
    "# Dataset de ejemplo con datos crudos y problemas comunes\n",
    "df = pd.DataFrame({\n",
    "    \"Customer Name\": [\"John Doe \",      # Espacio al final\n",
    "                      \"  JANE DOE\",     # Espacios al inicio y mayúsculas\n",
    "                      \"Alice smith\",    # Inconsistente en minúsculas\n",
    "                      \"Mário   Santos\", # Múltiples espacios + acento\n",
    "                      \"\",               # Cadena vacía (faltante)\n",
    "                      \"NULL\"],          # Texto \"NULL\" (faltante)\n",
    "    \"Income\": [\"$50,000\",  # Símbolo + separador miles\n",
    "               \"N/A\",      # Marcador faltante\n",
    "               \"$2,500\",   # Símbolo + separador miles\n",
    "               \"10000\",    # Numérico como texto\n",
    "               \"?\",        # Marcador faltante\n",
    "               \"NULL\"],    # Marcador faltante\n",
    "    \"Signup Date\": [\"12/05/2022\",  # dd/mm/yyyy\n",
    "                    \"2021-07-30\",  # yyyy-mm-dd\n",
    "                    \"15/07/2020\",  # dd/mm/yyyy\n",
    "                    \"2020-01-05\",  # yyyy-mm-dd\n",
    "                    \"N/A\",         # faltante\n",
    "                    \"NULL\"],       # faltante\n",
    "    \"Gender\": [\"M\", \"Female\", \"female\", \"F\", \"?\", \"NULL\"]\n",
    "})\n",
    "\n",
    "print(\"Datos de ejemplo (crudos):\")\n",
    "df\n",
    "\n",
    "# 💾 Guardar copia del dataset original para comparación posterior\n",
    "df_original = df.copy()\n"
   ]
  },
  {
   "cell_type": "markdown",
   "id": "e72c25c7",
   "metadata": {},
   "source": [
    "\n",
    "## 2) Detección de valores nulos\n",
    "Antes de limpiar, verificamos cuántos **nulos reales** detecta pandas (notar que aún no convertimos marcadores como `N/A`, `NULL`, `?` a `NaN`).\n"
   ]
  },
  {
   "cell_type": "code",
   "execution_count": 63,
   "id": "41590dff",
   "metadata": {},
   "outputs": [
    {
     "name": "stdout",
     "output_type": "stream",
     "text": [
      "Valores nulos antes de la limpieza:\n"
     ]
    },
    {
     "data": {
      "text/plain": [
       "Customer Name    0\n",
       "Income           0\n",
       "Signup Date      0\n",
       "Gender           0\n",
       "dtype: int64"
      ]
     },
     "execution_count": 63,
     "metadata": {},
     "output_type": "execute_result"
    }
   ],
   "source": [
    "\n",
    "print(\"Valores nulos antes de la limpieza:\")\n",
    "df.isna().sum()\n"
   ]
  },
  {
   "cell_type": "markdown",
   "id": "7c690178",
   "metadata": {},
   "source": [
    "\n",
    "## 3) Reemplazo de marcadores faltantes por `NaN`\n",
    "Convertimos `\"\"` (cadena vacía), `\"?\"`, `\"N/A\"` y `\"NULL\"` a `NaN` para que pandas los trate como faltantes.\n"
   ]
  },
  {
   "cell_type": "code",
   "execution_count": 64,
   "id": "08186f47",
   "metadata": {},
   "outputs": [
    {
     "name": "stdout",
     "output_type": "stream",
     "text": [
      "Valores nulos después del reemplazo:\n"
     ]
    },
    {
     "data": {
      "text/plain": [
       "Customer Name    2\n",
       "Income           3\n",
       "Signup Date      2\n",
       "Gender           2\n",
       "dtype: int64"
      ]
     },
     "execution_count": 64,
     "metadata": {},
     "output_type": "execute_result"
    }
   ],
   "source": [
    "\n",
    "df = df.replace([\"\", \"?\", \"N/A\", \"NULL\"], np.nan)\n",
    "print(\"Valores nulos después del reemplazo:\")\n",
    "df.isna().sum()\n"
   ]
  },
  {
   "cell_type": "markdown",
   "id": "b35c548e",
   "metadata": {},
   "source": [
    "\n",
    "## 4) Conversión de tipos (número y fecha)\n",
    "**Income:** remover símbolos (`$`, `,`) y convertir a numérico.  \n",
    "**Signup Date:** convertir a `datetime`, tolerando formatos mixtos y errores.\n"
   ]
  },
  {
   "cell_type": "code",
   "execution_count": 65,
   "id": "73afed0b",
   "metadata": {},
   "outputs": [
    {
     "name": "stdout",
     "output_type": "stream",
     "text": [
      "✅ Tipos de datos después de conversión:\n"
     ]
    },
    {
     "data": {
      "text/plain": [
       "Customer Name            object\n",
       "Income                  float64\n",
       "Signup Date      datetime64[ns]\n",
       "Gender                   object\n",
       "dtype: object"
      ]
     },
     "execution_count": 65,
     "metadata": {},
     "output_type": "execute_result"
    }
   ],
   "source": [
    "# Income a numérico (con manejo seguro de NaN)\n",
    "df['Income'] = df['Income'].astype(str).str.replace(r'[\\$,]', '', regex=True)\n",
    "df['Income'] = pd.to_numeric(df['Income'], errors='coerce')\n",
    "\n",
    "# Signup Date a datetime (dd/mm/yyyy y yyyy-mm-dd)\n",
    "df['Signup Date'] = pd.to_datetime(df['Signup Date'], dayfirst=True, errors='coerce')\n",
    "\n",
    "print(\"✅ Tipos de datos después de conversión:\")\n",
    "df.dtypes"
   ]
  },
  {
   "cell_type": "markdown",
   "id": "bed98d09",
   "metadata": {},
   "source": [
    "\n",
    "## 5) Limpieza de texto (Customer Name y Gender)\n",
    "- `Customer Name`: quitar espacios extra y normalizar a *Title Case*.  \n",
    "- `Gender`: normalizar a categorías **Male/Female**.\n"
   ]
  },
  {
   "cell_type": "code",
   "execution_count": 66,
   "id": "d8e1794b",
   "metadata": {},
   "outputs": [
    {
     "name": "stdout",
     "output_type": "stream",
     "text": [
      "✅ Limpieza de texto completada:\n"
     ]
    },
    {
     "data": {
      "text/html": [
       "<div>\n",
       "<style scoped>\n",
       "    .dataframe tbody tr th:only-of-type {\n",
       "        vertical-align: middle;\n",
       "    }\n",
       "\n",
       "    .dataframe tbody tr th {\n",
       "        vertical-align: top;\n",
       "    }\n",
       "\n",
       "    .dataframe thead th {\n",
       "        text-align: right;\n",
       "    }\n",
       "</style>\n",
       "<table border=\"1\" class=\"dataframe\">\n",
       "  <thead>\n",
       "    <tr style=\"text-align: right;\">\n",
       "      <th></th>\n",
       "      <th>Customer Name</th>\n",
       "      <th>Gender</th>\n",
       "    </tr>\n",
       "  </thead>\n",
       "  <tbody>\n",
       "    <tr>\n",
       "      <th>0</th>\n",
       "      <td>John Doe</td>\n",
       "      <td>Male</td>\n",
       "    </tr>\n",
       "    <tr>\n",
       "      <th>1</th>\n",
       "      <td>Jane Doe</td>\n",
       "      <td>Female</td>\n",
       "    </tr>\n",
       "    <tr>\n",
       "      <th>2</th>\n",
       "      <td>Alice Smith</td>\n",
       "      <td>Female</td>\n",
       "    </tr>\n",
       "    <tr>\n",
       "      <th>3</th>\n",
       "      <td>Mário Santos</td>\n",
       "      <td>Female</td>\n",
       "    </tr>\n",
       "    <tr>\n",
       "      <th>4</th>\n",
       "      <td>Nan</td>\n",
       "      <td>NaN</td>\n",
       "    </tr>\n",
       "    <tr>\n",
       "      <th>5</th>\n",
       "      <td>Nan</td>\n",
       "      <td>NaN</td>\n",
       "    </tr>\n",
       "  </tbody>\n",
       "</table>\n",
       "</div>"
      ],
      "text/plain": [
       "  Customer Name  Gender\n",
       "0      John Doe    Male\n",
       "1      Jane Doe  Female\n",
       "2   Alice Smith  Female\n",
       "3  Mário Santos  Female\n",
       "4           Nan     NaN\n",
       "5           Nan     NaN"
      ]
     },
     "execution_count": 66,
     "metadata": {},
     "output_type": "execute_result"
    }
   ],
   "source": [
    "\n",
    "# Customer Name: strip + espacios múltiples a uno + Title Case (manejo seguro)\n",
    "df['Customer Name'] = df['Customer Name'].astype(str).str.strip()\n",
    "df['Customer Name'] = df['Customer Name'].str.replace(r'\\s+', ' ', regex=True)\n",
    "df['Customer Name'] = df['Customer Name'].str.title()\n",
    "\n",
    "# Gender: normalizar (manejo seguro de NaN)\n",
    "df['Gender'] = df['Gender'].astype(str).str.strip().str.lower()\n",
    "df['Gender'] = df['Gender'].replace({'m': 'male', 'male': 'male', 'f': 'female', 'female': 'female', 'nan': np.nan})\n",
    "df['Gender'] = df['Gender'].str.capitalize()\n",
    "\n",
    "print(\"✅ Limpieza de texto completada:\")\n",
    "df[['Customer Name','Gender']]\n"
   ]
  },
  {
   "cell_type": "markdown",
   "id": "b27968e8",
   "metadata": {},
   "source": [
    "\n",
    "## 6) Reglas mínimas y resumen final\n",
    "- (Opcional) Remover filas sin información clave.  \n",
    "- Resetear el índice.  \n",
    "- Revisar el estado final del DataFrame.\n"
   ]
  },
  {
   "cell_type": "code",
   "execution_count": 67,
   "id": "cbb15ab3",
   "metadata": {},
   "outputs": [
    {
     "name": "stdout",
     "output_type": "stream",
     "text": [
      "✅ Filas válidas después de limpieza:\n",
      "   📊 Antes: 6 filas\n",
      "   📊 Después: 3 filas\n",
      "   🗑️ Eliminadas: 3 filas\n",
      "\n",
      "📋 Tipos de datos finales:\n"
     ]
    },
    {
     "data": {
      "text/plain": [
       "Customer Name            object\n",
       "Income                  float64\n",
       "Signup Date      datetime64[ns]\n",
       "Gender                   object\n",
       "dtype: object"
      ]
     },
     "metadata": {},
     "output_type": "display_data"
    },
    {
     "name": "stdout",
     "output_type": "stream",
     "text": [
      "\n",
      "📄 DataFrame final:\n"
     ]
    },
    {
     "data": {
      "text/html": [
       "<div>\n",
       "<style scoped>\n",
       "    .dataframe tbody tr th:only-of-type {\n",
       "        vertical-align: middle;\n",
       "    }\n",
       "\n",
       "    .dataframe tbody tr th {\n",
       "        vertical-align: top;\n",
       "    }\n",
       "\n",
       "    .dataframe thead th {\n",
       "        text-align: right;\n",
       "    }\n",
       "</style>\n",
       "<table border=\"1\" class=\"dataframe\">\n",
       "  <thead>\n",
       "    <tr style=\"text-align: right;\">\n",
       "      <th></th>\n",
       "      <th>Customer Name</th>\n",
       "      <th>Income</th>\n",
       "      <th>Signup Date</th>\n",
       "      <th>Gender</th>\n",
       "    </tr>\n",
       "  </thead>\n",
       "  <tbody>\n",
       "    <tr>\n",
       "      <th>0</th>\n",
       "      <td>John Doe</td>\n",
       "      <td>50000.0</td>\n",
       "      <td>2022-05-12</td>\n",
       "      <td>Male</td>\n",
       "    </tr>\n",
       "    <tr>\n",
       "      <th>1</th>\n",
       "      <td>Alice Smith</td>\n",
       "      <td>2500.0</td>\n",
       "      <td>2020-07-15</td>\n",
       "      <td>Female</td>\n",
       "    </tr>\n",
       "    <tr>\n",
       "      <th>2</th>\n",
       "      <td>Mário Santos</td>\n",
       "      <td>10000.0</td>\n",
       "      <td>NaT</td>\n",
       "      <td>Female</td>\n",
       "    </tr>\n",
       "  </tbody>\n",
       "</table>\n",
       "</div>"
      ],
      "text/plain": [
       "  Customer Name   Income Signup Date  Gender\n",
       "0      John Doe  50000.0  2022-05-12    Male\n",
       "1   Alice Smith   2500.0  2020-07-15  Female\n",
       "2  Mário Santos  10000.0         NaT  Female"
      ]
     },
     "execution_count": 67,
     "metadata": {},
     "output_type": "execute_result"
    }
   ],
   "source": [
    "\n",
    "# Ejemplo: eliminar filas sin nombre e ingreso\n",
    "df_clean = df.dropna(subset=['Customer Name', 'Income'], how='any').reset_index(drop=True)\n",
    "\n",
    "print(\"✅ Filas válidas después de limpieza:\")\n",
    "print(f\"   📊 Antes: {len(df)} filas\")\n",
    "print(f\"   📊 Después: {len(df_clean)} filas\")\n",
    "print(f\"   🗑️ Eliminadas: {len(df) - len(df_clean)} filas\")\n",
    "\n",
    "print(\"\\n📋 Tipos de datos finales:\")\n",
    "display(df_clean.dtypes)\n",
    "\n",
    "print(\"\\n📄 DataFrame final:\")\n",
    "df_clean\n"
   ]
  },
  {
   "cell_type": "markdown",
   "id": "c4250746",
   "metadata": {},
   "source": [
    "\n",
    "## 7) Comparación **Antes vs. Después**\n",
    "Para visualizar el impacto de la limpieza, mostramos una tabla comparativa con algunas filas del dataset original frente al dataset limpio.\n"
   ]
  },
  {
   "cell_type": "code",
   "execution_count": 68,
   "id": "ab82b10a",
   "metadata": {},
   "outputs": [
    {
     "name": "stdout",
     "output_type": "stream",
     "text": [
      "📊 COMPARACIÓN COMPLETA - ANTES VS DESPUÉS\n",
      "============================================================\n",
      "\n",
      "🔴 ANTES (datos crudos):\n",
      "------------------------------\n"
     ]
    },
    {
     "data": {
      "text/html": [
       "<div>\n",
       "<style scoped>\n",
       "    .dataframe tbody tr th:only-of-type {\n",
       "        vertical-align: middle;\n",
       "    }\n",
       "\n",
       "    .dataframe tbody tr th {\n",
       "        vertical-align: top;\n",
       "    }\n",
       "\n",
       "    .dataframe thead th {\n",
       "        text-align: right;\n",
       "    }\n",
       "</style>\n",
       "<table border=\"1\" class=\"dataframe\">\n",
       "  <thead>\n",
       "    <tr style=\"text-align: right;\">\n",
       "      <th></th>\n",
       "      <th>Customer Name</th>\n",
       "      <th>Income</th>\n",
       "      <th>Signup Date</th>\n",
       "      <th>Gender</th>\n",
       "    </tr>\n",
       "  </thead>\n",
       "  <tbody>\n",
       "    <tr>\n",
       "      <th>0</th>\n",
       "      <td>John Doe</td>\n",
       "      <td>$50,000</td>\n",
       "      <td>12/05/2022</td>\n",
       "      <td>M</td>\n",
       "    </tr>\n",
       "    <tr>\n",
       "      <th>1</th>\n",
       "      <td>JANE DOE</td>\n",
       "      <td>N/A</td>\n",
       "      <td>2021-07-30</td>\n",
       "      <td>Female</td>\n",
       "    </tr>\n",
       "    <tr>\n",
       "      <th>2</th>\n",
       "      <td>Alice smith</td>\n",
       "      <td>$2,500</td>\n",
       "      <td>15/07/2020</td>\n",
       "      <td>female</td>\n",
       "    </tr>\n",
       "    <tr>\n",
       "      <th>3</th>\n",
       "      <td>Mário   Santos</td>\n",
       "      <td>10000</td>\n",
       "      <td>2020-01-05</td>\n",
       "      <td>F</td>\n",
       "    </tr>\n",
       "    <tr>\n",
       "      <th>4</th>\n",
       "      <td></td>\n",
       "      <td>?</td>\n",
       "      <td>N/A</td>\n",
       "      <td>?</td>\n",
       "    </tr>\n",
       "    <tr>\n",
       "      <th>5</th>\n",
       "      <td>NULL</td>\n",
       "      <td>NULL</td>\n",
       "      <td>NULL</td>\n",
       "      <td>NULL</td>\n",
       "    </tr>\n",
       "  </tbody>\n",
       "</table>\n",
       "</div>"
      ],
      "text/plain": [
       "    Customer Name   Income Signup Date  Gender\n",
       "0       John Doe   $50,000  12/05/2022       M\n",
       "1        JANE DOE      N/A  2021-07-30  Female\n",
       "2     Alice smith   $2,500  15/07/2020  female\n",
       "3  Mário   Santos    10000  2020-01-05       F\n",
       "4                        ?         N/A       ?\n",
       "5            NULL     NULL        NULL    NULL"
      ]
     },
     "metadata": {},
     "output_type": "display_data"
    },
    {
     "name": "stdout",
     "output_type": "stream",
     "text": [
      "\n",
      "🟢 DESPUÉS (datos limpios):\n",
      "------------------------------\n"
     ]
    },
    {
     "data": {
      "text/html": [
       "<div>\n",
       "<style scoped>\n",
       "    .dataframe tbody tr th:only-of-type {\n",
       "        vertical-align: middle;\n",
       "    }\n",
       "\n",
       "    .dataframe tbody tr th {\n",
       "        vertical-align: top;\n",
       "    }\n",
       "\n",
       "    .dataframe thead th {\n",
       "        text-align: right;\n",
       "    }\n",
       "</style>\n",
       "<table border=\"1\" class=\"dataframe\">\n",
       "  <thead>\n",
       "    <tr style=\"text-align: right;\">\n",
       "      <th></th>\n",
       "      <th>Customer Name</th>\n",
       "      <th>Income</th>\n",
       "      <th>Signup Date</th>\n",
       "      <th>Gender</th>\n",
       "    </tr>\n",
       "  </thead>\n",
       "  <tbody>\n",
       "    <tr>\n",
       "      <th>0</th>\n",
       "      <td>John Doe</td>\n",
       "      <td>50000.0</td>\n",
       "      <td>2022-05-12</td>\n",
       "      <td>Male</td>\n",
       "    </tr>\n",
       "    <tr>\n",
       "      <th>1</th>\n",
       "      <td>Alice Smith</td>\n",
       "      <td>2500.0</td>\n",
       "      <td>2020-07-15</td>\n",
       "      <td>Female</td>\n",
       "    </tr>\n",
       "    <tr>\n",
       "      <th>2</th>\n",
       "      <td>Mário Santos</td>\n",
       "      <td>10000.0</td>\n",
       "      <td>NaT</td>\n",
       "      <td>Female</td>\n",
       "    </tr>\n",
       "  </tbody>\n",
       "</table>\n",
       "</div>"
      ],
      "text/plain": [
       "  Customer Name   Income Signup Date  Gender\n",
       "0      John Doe  50000.0  2022-05-12    Male\n",
       "1   Alice Smith   2500.0  2020-07-15  Female\n",
       "2  Mário Santos  10000.0         NaT  Female"
      ]
     },
     "metadata": {},
     "output_type": "display_data"
    },
    {
     "name": "stdout",
     "output_type": "stream",
     "text": [
      "\n",
      "📊 RESUMEN DE LA LIMPIEZA:\n",
      "   📊 Registros originales: 6\n",
      "   📊 Registros finales: 3\n",
      "   🗑️ Registros eliminados: 3\n",
      "   📈 Tasa de conservación: 50.0%\n"
     ]
    }
   ],
   "source": [
    "\n",
    "print(\"📊 COMPARACIÓN COMPLETA - ANTES VS DESPUÉS\")\n",
    "print(\"=\" * 60)\n",
    "\n",
    "print(\"\\n🔴 ANTES (datos crudos):\")\n",
    "print(\"-\" * 30)\n",
    "display(df_original)\n",
    "\n",
    "print(\"\\n🟢 DESPUÉS (datos limpios):\")\n",
    "print(\"-\" * 30)\n",
    "display(df_clean)\n",
    "\n",
    "# Resumen de la transformación\n",
    "print(f\"\\n📊 RESUMEN DE LA LIMPIEZA:\")\n",
    "print(f\"   📊 Registros originales: {len(df_original)}\")\n",
    "print(f\"   📊 Registros finales: {len(df_clean)}\")\n",
    "print(f\"   🗑️ Registros eliminados: {len(df_original) - len(df_clean)}\")\n",
    "print(f\"   📈 Tasa de conservación: {(len(df_clean)/len(df_original)*100):.1f}%\")"
   ]
  },
  {
   "cell_type": "code",
   "execution_count": 70,
   "id": "009912b0-0399-4862-9a27-7c073d230acf",
   "metadata": {},
   "outputs": [
    {
     "name": "stdout",
     "output_type": "stream",
     "text": [
      "Exportando dataset de clientes limpios...\n",
      "CSV exportado: export/clientes_limpios.csv\n",
      "Excel exportado: export/clientes_limpios.xlsx\n",
      "JSON exportado: export/clientes_limpios.json\n",
      "Base de datos SQLite creada: export/clientes_database.db\n"
     ]
    }
   ],
   "source": [
    "# Crear carpeta \"export\" si no existe\n",
    "os.makedirs(\"export\", exist_ok=True)\n",
    "\n",
    "print(\"Exportando dataset de clientes limpios...\")\n",
    "\n",
    "# 1) CSV - formato más universal para análisis de datos\n",
    "df_clean.to_csv(\"export/clientes_limpios.csv\", index=False, encoding=\"utf-8\")\n",
    "print(\"CSV exportado: export/clientes_limpios.csv\")\n",
    "\n",
    "# 2) Excel - formato empresarial estándar\n",
    "df_clean.to_excel(\"export/clientes_limpios.xlsx\", index=False)\n",
    "print(\"Excel exportado: export/clientes_limpios.xlsx\")\n",
    "\n",
    "# 3) JSON - formato para APIs y aplicaciones web\n",
    "df_clean.to_json(\"export/clientes_limpios.json\", orient=\"records\", indent=2, force_ascii=False)\n",
    "print(\"JSON exportado: export/clientes_limpios.json\")\n",
    "\n",
    "# 4) SQL (SQLite) - base de datos para consultas complejas\n",
    "con = sqlite3.connect(\"export/clientes_database.db\")\n",
    "df_clean.to_sql(\"clientes_limpios\", con, if_exists=\"replace\", index=False)\n",
    "con.close()\n",
    "print(\"Base de datos SQLite creada: export/clientes_database.db\")\n",
    "\n"
   ]
  },
  {
   "cell_type": "code",
   "execution_count": null,
   "id": "f25614b8-f51c-4705-9141-d45360c5c4df",
   "metadata": {},
   "outputs": [],
   "source": []
  }
 ],
 "metadata": {
  "kernelspec": {
   "display_name": "Python 3 (ipykernel)",
   "language": "python",
   "name": "python3"
  },
  "language_info": {
   "codemirror_mode": {
    "name": "ipython",
    "version": 3
   },
   "file_extension": ".py",
   "mimetype": "text/x-python",
   "name": "python",
   "nbconvert_exporter": "python",
   "pygments_lexer": "ipython3",
   "version": "3.11.9"
  }
 },
 "nbformat": 4,
 "nbformat_minor": 5
}
