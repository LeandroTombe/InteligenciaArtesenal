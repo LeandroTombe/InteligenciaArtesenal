{
 "cells": [
  {
   "cell_type": "markdown",
   "id": "54dfdbdf",
   "metadata": {},
   "source": [
    "# 📊 Pandas Data I/O Cheat Sheet — Capítulo 6\n",
    "**Data Loading, Storage, and File Formats**\n",
    "\n",
    "Guía rápida pensada para *Jupyter Notebook* y exposiciones."
   ]
  },
  {
   "cell_type": "markdown",
   "id": "cabfbca9",
   "metadata": {},
   "source": [
    "## 🔹 Lectura de archivos de texto"
   ]
  },
  {
   "cell_type": "code",
   "execution_count": null,
   "id": "3b291837",
   "metadata": {},
   "outputs": [],
   "source": [
    "import pandas as pd\n",
    "\n",
    "# CSV con encabezado\n",
    "# df = pd.read_csv('archivo.csv')\n",
    "\n",
    "# CSV sin encabezado (genera nombres automáticos)\n",
    "# df = pd.read_csv('archivo.csv', header=None)\n",
    "\n",
    "# Especificar nombres de columnas\n",
    "# df = pd.read_csv('archivo.csv', names=['a','b','c','d','msg'])\n",
    "\n",
    "# Usar columna como índice\n",
    "# df = pd.read_csv('archivo.csv', index_col='msg')\n",
    "\n",
    "# Delimitadores personalizados (por espacios en blanco)\n",
    "# df = pd.read_table('archivo.txt', sep='\\s+')"
   ]
  },
  {
   "cell_type": "markdown",
   "id": "2ac9165e",
   "metadata": {},
   "source": [
    "## 🔹 Opciones comunes en `read_csv` / `read_table`"
   ]
  },
  {
   "cell_type": "markdown",
   "id": "fef13443",
   "metadata": {},
   "source": [
    "- `sep` → delimitador (`,`, `;`, `\\t`, `\\s+`)\n",
    "- `names` → lista de nombres de columnas\n",
    "- `index_col` → columnas como índice\n",
    "- `skiprows` → filas a saltar\n",
    "- `na_values` → definir valores faltantes\n",
    "- `nrows` → leer solo X filas\n",
    "- `chunksize` → leer en bloques\n"
   ]
  },
  {
   "cell_type": "code",
   "execution_count": null,
   "id": "e541c07b",
   "metadata": {},
   "outputs": [],
   "source": [
    "# Ejemplo de parseo con opciones\n",
    "# df = pd.read_csv('data.csv', skiprows=[0,2], na_values=['NULL'])"
   ]
  },
  {
   "cell_type": "markdown",
   "id": "4ca7bf94",
   "metadata": {},
   "source": [
    "## 🔹 Lectura en piezas (archivos grandes)"
   ]
  },
  {
   "cell_type": "code",
   "execution_count": null,
   "id": "a805aa3c",
   "metadata": {},
   "outputs": [],
   "source": [
    "# Leer solo 5 filas\n",
    "# sample = pd.read_csv('data.csv', nrows=5)\n",
    "# print(sample)\n",
    "\n",
    "# Iterar en bloques de 1000 filas\n",
    "# chunker = pd.read_csv('data.csv', chunksize=1000)\n",
    "# for piece in chunker:\n",
    "#     print(piece.head(2))"
   ]
  },
  {
   "cell_type": "markdown",
   "id": "b4ea6779",
   "metadata": {},
   "source": [
    "## 🔹 Escritura a texto"
   ]
  },
  {
   "cell_type": "code",
   "execution_count": null,
   "id": "ff535cfe",
   "metadata": {},
   "outputs": [],
   "source": [
    "# df.to_csv('out.csv')                      # a CSV\n",
    "# df.to_csv('out.csv', sep='|')             # separador custom\n",
    "# df.to_csv('out.csv', na_rep='NULL')       # representar NaN\n",
    "# df.to_csv('out.csv', index=False)         # sin índices"
   ]
  },
  {
   "cell_type": "markdown",
   "id": "f5e834ea",
   "metadata": {},
   "source": [
    "## 🔹 JSON"
   ]
  },
  {
   "cell_type": "code",
   "execution_count": null,
   "id": "8c1d9535",
   "metadata": {},
   "outputs": [],
   "source": [
    "import json\n",
    "\n",
    "# De string JSON a dict\n",
    "# obj = json.loads(json_string)\n",
    "\n",
    "# De dict a JSON\n",
    "# json_str = json.dumps(obj)\n",
    "\n",
    "# JSON a DataFrame (lista/dict)\n",
    "# df = pd.DataFrame(obj['items'], columns=['col1','col2'])"
   ]
  },
  {
   "cell_type": "markdown",
   "id": "edbd0c8d",
   "metadata": {},
   "source": [
    "## 🔹 HTML / XML (web scraping básico con `lxml`)"
   ]
  },
  {
   "cell_type": "code",
   "execution_count": null,
   "id": "10aef86b",
   "metadata": {},
   "outputs": [],
   "source": [
    "# from lxml.html import parse\n",
    "# from urllib.request import urlopen\n",
    "\n",
    "# parsed = parse(urlopen('https://ejemplo.com'))\n",
    "# doc = parsed.getroot()\n",
    "# links = [lnk.get('href') for lnk in doc.findall('.//a')]\n",
    "# links[:5]"
   ]
  },
  {
   "cell_type": "markdown",
   "id": "96fb5d6a",
   "metadata": {},
   "source": [
    "## 🔹 Formatos binarios"
   ]
  },
  {
   "cell_type": "code",
   "execution_count": null,
   "id": "15d2154d",
   "metadata": {},
   "outputs": [],
   "source": [
    "# Pickle (rápido; corto plazo)\n",
    "# df.to_pickle('data.pkl')\n",
    "# df = pd.read_pickle('data.pkl')\n",
    "\n",
    "# HDF5 (grandes volúmenes, compresión)\n",
    "# store = pd.HDFStore('data.h5')\n",
    "# store['df1'] = df\n",
    "# print(store['df1'])\n",
    "# store.close()"
   ]
  },
  {
   "cell_type": "markdown",
   "id": "68ec60bb",
   "metadata": {},
   "source": [
    "## 🔹 Excel"
   ]
  },
  {
   "cell_type": "code",
   "execution_count": null,
   "id": "450215f1",
   "metadata": {},
   "outputs": [],
   "source": [
    "# xls = pd.ExcelFile('data.xlsx')\n",
    "# df = xls.parse('Hoja1')"
   ]
  },
  {
   "cell_type": "markdown",
   "id": "cdbcc1da",
   "metadata": {},
   "source": [
    "## 🔹 Bases de datos SQL"
   ]
  },
  {
   "cell_type": "code",
   "execution_count": null,
   "id": "0cf65029",
   "metadata": {},
   "outputs": [],
   "source": [
    "import sqlite3\n",
    "\n",
    "# con = sqlite3.connect(':memory:')\n",
    "# df = pd.read_sql('SELECT 1 as a, 2 as b', con)\n",
    "# df"
   ]
  },
  {
   "cell_type": "markdown",
   "id": "987969e5",
   "metadata": {},
   "source": [
    "## 🔹 APIs / Web (requests + JSON)"
   ]
  },
  {
   "cell_type": "code",
   "execution_count": null,
   "id": "f37630f3",
   "metadata": {},
   "outputs": [],
   "source": [
    "import requests\n",
    "\n",
    "# resp = requests.get('https://api.github.com/users/octocat')\n",
    "# data = resp.json()\n",
    "# df = pd.DataFrame([data])\n",
    "# df[['login','id','public_repos']]\n"
   ]
  },
  {
   "cell_type": "markdown",
   "id": "8a3b09eb",
   "metadata": {},
   "source": [
    "## ✅ Resumen\n",
    "- Usa `read_csv` / `to_csv` para texto.\n",
    "- Usa **Pickle** solo en el corto plazo.\n",
    "- Usa **HDF5** para datos grandes.\n",
    "- Usa **ExcelFile** para `.xlsx`.\n",
    "- Usa `requests` + `json` para APIs.\n",
    "- Usa `read_sql` para bases de datos.\n"
   ]
  }
 ],
 "metadata": {},
 "nbformat": 4,
 "nbformat_minor": 5
}