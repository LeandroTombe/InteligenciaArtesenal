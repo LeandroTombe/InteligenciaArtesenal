{
 "cells": [
  {
   "cell_type": "code",
   "execution_count": null,
   "id": "12edea98-dbc7-4c26-ab33-15d5421dc746",
   "metadata": {},
   "outputs": [],
   "source": []
  }
 ],
 "metadata": {
  "kernelspec": {
   "display_name": "",
   "name": ""
  },
  "language_info": {
   "name": ""
  }
 },
 "nbformat": 4,
 "nbformat_minor": 5
}
