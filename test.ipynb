{
 "cells": [
  {
   "cell_type": "markdown",
   "id": "fc0a0372-7de8-4c2b-9d57-5e66e6dba291",
   "metadata": {},
   "source": [
    "# Lectura, Limpieza y Exportación de Datos con Pandas\n",
    "\n",
    "## Objetivos\n",
    "\n",
    "1. **Cargar datasets desde diferentes formatos** (CSV, JSON, Excel, SQL, etc.) utilizando parámetros adecuados (`sep`, `na_values`, `parse_dates`, etc.).  \n",
    "2. **Detectar y tratar valores faltantes y sucios** (`NaN`, `NULL`, `?`, vacíos), transformándolos en un formato uniforme.  \n",
    "3. **Ajustar tipos de datos** (fechas, números, cadenas, IDs) para que el dataset sea más consistente.  \n",
    "4. **Aplicar análisis preliminar** (`info()`, `head()`,shape) para conocer la estructura y calidad de los datos.  \n",
    "5. **Exportar el DataFrame limpio en múltiples formatos** (CSV, Excel, JSON, SQL, y opcionalmente binarios como Pickle/Parquet/HDF5).  \n"
   ]
  },
  {
   "cell_type": "markdown",
   "id": "201648ef-644d-4e43-b338-7b7281ba207f",
   "metadata": {},
   "source": [
    "##  Librerías\n"
   ]
  },
  {
   "cell_type": "code",
   "execution_count": 7,
   "id": "5d40988a-867c-4e40-b7e8-8fda7142c6ff",
   "metadata": {},
   "outputs": [],
   "source": [
    "import pandas as pd\n",
    "import numpy as np\n",
    "import sqlite3\n",
    "import os"
   ]
  },
  {
   "cell_type": "markdown",
   "id": "c8336a6f-4b8a-466e-ad36-b80b183f2733",
   "metadata": {},
   "source": [
    "## Lectura de dataset desde una fuente externa o local\n"
   ]
  },
  {
   "cell_type": "code",
   "execution_count": 10,
   "id": "7909f701-e73c-42af-841b-be7880b11aa1",
   "metadata": {},
   "outputs": [
    {
     "name": "stdout",
     "output_type": "stream",
     "text": [
      "✅ Dataset cargado correctamente\n",
      "📏 Dimensiones: (23879, 16)\n",
      "📋 Columnas: ['Car_id', 'Date', 'Customer Name', 'Gender', 'Annual Income', 'Dealer_Name', 'Company', 'Model', 'Engine', 'Transmission', 'Color', 'Price ($)', 'Dealer_No', 'Body Style', 'Phone', 'Dealer_Region']\n"
     ]
    }
   ],
   "source": [
    "# Cargar dataset de autos con configuración correcta\n",
    "df = pd.read_csv(\n",
    "    \"datasets/car_data.csv\",\n",
    "    sep=\";\",                           # archivo usa punto y coma\n",
    "    na_values=[\"NA\", \"NULL\", \"?\", \"\"], # normalizar nulos\n",
    "    parse_dates=[\"Date\"],              # columna de fechas\n",
    "    thousands=\",\",                     # separador de miles en Price ($)\n",
    "    decimal=\".\",                       # separador decimal\n",
    "    dtype={\n",
    "        \"Car_id\": \"string\",            # Car_id es alfanumérico\n",
    "        \"Dealer_No\": \"string\",         # códigos de dealer\n",
    "        \"Phone\": \"string\"              # teléfono como string\n",
    "    }\n",
    ")\n",
    "\n",
    "# Limpiar espacios en nombres de columnas\n",
    "df.columns = df.columns.str.strip()\n",
    "\n",
    "print(\"✅ Dataset cargado correctamente\")\n",
    "print(f\"📏 Dimensiones: {df.shape}\")\n",
    "print(f\"📋 Columnas: {list(df.columns)}\")\n"
   ]
  },
  {
   "cell_type": "markdown",
   "id": "2dbb2c30-2a8d-47cb-ad54-33ce65a9d410",
   "metadata": {},
   "source": [
    "## 🔍 Exploración rápida de los datos\n",
    "\n",
    "Ahora que tenemos el dataset cargado, vamos a explorarlo de forma básica para entender qué contiene:\n",
    "\n"
   ]
  },
  {
   "cell_type": "code",
   "execution_count": 11,
   "id": "e571142b-0e25-41c6-8e0a-5f46aeb1477a",
   "metadata": {},
   "outputs": [
    {
     "name": "stdout",
     "output_type": "stream",
     "text": [
      "\n",
      "Primeras filas:\n",
      "         Car_id       Date Customer Name Gender  Annual Income  \\\n",
      "0  C_CND_000001 2022-01-02     Geraldine   Male        13500.0   \n",
      "1  C_CND_000002 2022-01-02           Gia   Male      1480000.0   \n",
      "2  C_CND_000003 2022-01-02        Gianna   Male      1035000.0   \n",
      "3  C_CND_000004 2022-01-02       Giselle   Male        13500.0   \n",
      "4  C_CND_000005 2022-01-02         Grace   Male      1465000.0   \n",
      "\n",
      "                           Dealer_Name   Company       Model  \\\n",
      "0  Buddy Storbeck's Diesel Service Inc      Ford  Expedition   \n",
      "1                     C & M Motors Inc     Dodge     Durango   \n",
      "2                          Capitol KIA  Cadillac    Eldorado   \n",
      "3               Chrysler of Tri-Cities    Toyota      Celica   \n",
      "4                    Chrysler Plymouth     Acura          TL   \n",
      "\n",
      "                      Engine Transmission       Color  Price ($)   Dealer_No  \\\n",
      "0  DoubleÂ Overhead Camshaft         Auto       Black    26000.0  06457-3834   \n",
      "1  DoubleÂ Overhead Camshaft         Auto       Black    19000.0  60504-7114   \n",
      "2          Overhead Camshaft       Manual         Red    31500.0  38701-8047   \n",
      "3          Overhead Camshaft       Manual  Pale White    14000.0  99301-3882   \n",
      "4  DoubleÂ Overhead Camshaft         Auto         Red    24500.0  53546-9427   \n",
      "\n",
      "  Body Style    Phone Dealer_Region  \n",
      "0        SUV  8264678    Middletown  \n",
      "1        SUV  6848189        Aurora  \n",
      "2  Passenger  7298798    Greenville  \n",
      "3        SUV  6257557         Pasco  \n",
      "4  Hatchback  7081483    Janesville  \n",
      "Shape (filas, columnas): (23879, 16)\n",
      "\n",
      "Tipos de datos y memoria:\n",
      "<class 'pandas.core.frame.DataFrame'>\n",
      "RangeIndex: 23879 entries, 0 to 23878\n",
      "Data columns (total 16 columns):\n",
      " #   Column         Non-Null Count  Dtype         \n",
      "---  ------         --------------  -----         \n",
      " 0   Car_id         111 non-null    string        \n",
      " 1   Date           111 non-null    datetime64[ns]\n",
      " 2   Customer Name  111 non-null    object        \n",
      " 3   Gender         111 non-null    object        \n",
      " 4   Annual Income  111 non-null    float64       \n",
      " 5   Dealer_Name    111 non-null    object        \n",
      " 6   Company        111 non-null    object        \n",
      " 7   Model          111 non-null    object        \n",
      " 8   Engine         111 non-null    object        \n",
      " 9   Transmission   111 non-null    object        \n",
      " 10  Color          111 non-null    object        \n",
      " 11  Price ($)      111 non-null    float64       \n",
      " 12  Dealer_No      111 non-null    object        \n",
      " 13  Body Style     111 non-null    object        \n",
      " 14  Phone          111 non-null    string        \n",
      " 15  Dealer_Region  111 non-null    object        \n",
      "dtypes: datetime64[ns](1), float64(2), object(11), string(2)\n",
      "memory usage: 2.9+ MB\n",
      "None\n"
     ]
    }
   ],
   "source": [
    "# 1. ¿Cómo se ven las primeras filas?\n",
    "print(\"\\nPrimeras filas:\")\n",
    "print(df.head())\n",
    "\n",
    "# 2. ¿Cuántas filas y columnas tiene?\n",
    "print(\"Shape (filas, columnas):\", df.shape)\n",
    "\n",
    "# 3. ¿Qué tipos de datos hay?\n",
    "print(\"\\nTipos de datos y memoria:\")\n",
    "print(df.info())\n",
    "\n"
   ]
  },
  {
   "cell_type": "markdown",
   "id": "1fc440a7-1051-4599-b0e9-f7c2bec53a75",
   "metadata": {},
   "source": [
    "# Limpieza de Datos\n"
   ]
  },
  {
   "cell_type": "code",
   "execution_count": 4,
   "id": "68438996-698d-4f6d-be84-3d44ee484cd0",
   "metadata": {},
   "outputs": [
    {
     "name": "stdout",
     "output_type": "stream",
     "text": [
      "❓ Valores faltantes por columna:\n",
      "               Faltantes  Porcentaje\n",
      "Car_id             23768        99.5\n",
      "Date               23768        99.5\n",
      "Customer Name      23768        99.5\n",
      "Gender             23768        99.5\n",
      "Annual Income      23768        99.5\n",
      "Dealer_Name        23768        99.5\n",
      "Company            23768        99.5\n",
      "Model              23768        99.5\n",
      "Engine             23768        99.5\n",
      "Transmission       23768        99.5\n",
      "Color              23768        99.5\n",
      "Price ($)          23768        99.5\n",
      "Dealer_No          23768        99.5\n",
      "Body Style         23768        99.5\n",
      "Phone              23768        99.5\n",
      "Dealer_Region      23768        99.5\n"
     ]
    }
   ],
   "source": [
    "\n",
    "print(\"Valores faltantes por columna:\")\n",
    "missing = df.isnull().sum()\n",
    "missing_pct = (df.isnull().sum() / len(df) * 100).round(1)\n",
    "missing_report = pd.DataFrame({\n",
    "    'Faltantes': missing,\n",
    "    'Porcentaje': missing_pct\n",
    "}).sort_values('Porcentaje', ascending=False)\n",
    "\n",
    "# Solo mostrar columnas con valores faltantes\n",
    "print(missing_report[missing_report['Faltantes'] > 0])"
   ]
  },
  {
   "cell_type": "code",
   "execution_count": 12,
   "id": "eb7c25a4-b209-4279-bac2-414037eb3747",
   "metadata": {},
   "outputs": [],
   "source": [
    "## Exportación del dataset trabajado a una fuente externa o local\n"
   ]
  },
  {
   "cell_type": "code",
   "execution_count": 5,
   "id": "61d77374-49d2-430b-a702-24a26b6d2d17",
   "metadata": {},
   "outputs": [
    {
     "name": "stdout",
     "output_type": "stream",
     "text": [
      "✅ Datos exportados en:\n",
      "   📄 CSV: export/car_data_clean.csv\n",
      "   📊 Excel: export/car_data_clean.xlsx\n",
      "   🔗 JSON: export/car_data_clean.json\n",
      "\n",
      "📏 Exportamos 23,879 registros con 16 columnas\n"
     ]
    }
   ],
   "source": [
    "# Crear carpeta de exportación\n",
    "os.makedirs(\"export\", exist_ok=True)\n",
    "\n",
    "# Exportar en diferentes formatos\n",
    "df.to_csv(\"export/car_data_clean.csv\", index=False, encoding=\"utf-8\")\n",
    "df.to_excel(\"export/car_data_clean.xlsx\", index=False)\n",
    "df.to_json(\"export/car_data_clean.json\", orient=\"records\", indent=2, force_ascii=False)\n",
    "\n",
    "print(\"✅ Datos exportados en:\")\n",
    "print(\"   📄 CSV: export/car_data_clean.csv\")\n",
    "print(\"   📊 Excel: export/car_data_clean.xlsx\")\n",
    "print(\"   🔗 JSON: export/car_data_clean.json\")\n",
    "\n",
    "print(f\"\\n📏 Exportamos {len(df):,} registros con {len(df.columns)} columnas\")"
   ]
  },
  {
   "cell_type": "code",
   "execution_count": null,
   "id": "9e4b56e9-9f2b-4992-938d-fb9f78e26544",
   "metadata": {},
   "outputs": [],
   "source": []
  }
 ],
 "metadata": {
  "kernelspec": {
   "display_name": "Python 3 (ipykernel)",
   "language": "python",
   "name": "python3"
  },
  "language_info": {
   "codemirror_mode": {
    "name": "ipython",
    "version": 3
   },
   "file_extension": ".py",
   "mimetype": "text/x-python",
   "name": "python",
   "nbconvert_exporter": "python",
   "pygments_lexer": "ipython3",
   "version": "3.12.7"
  }
 },
 "nbformat": 4,
 "nbformat_minor": 5
}
