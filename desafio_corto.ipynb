{
 "cells": [
  {
   "cell_type": "markdown",
   "id": "a2b2281d-772a-4af7-9083-a97dbbb939ae",
   "metadata": {},
   "source": [
    "# ⚡ Desafío corto (nivel sencillo)\n",
    "\n",
    "**Objetivo:** detectar y contar valores faltantes en un dataset pequeño.\n",
    "\n",
    "---\n",
    "\n",
    "## 📝 Consigna\n",
    "\n",
    "1. Cargá el siguiente CSV de ejemplo:\n",
    "\n",
    "   ```csv\n",
    "   id,nombre,edad\n",
    "   1,Ana,23\n",
    "   2,Beto,\n",
    "   3,Caro,31\n",
    "   4,,27\n",
    "   5,Diego,\n"
   ]
  },
  {
   "cell_type": "markdown",
   "id": "98a8d2a2-7f6f-44f8-ba7f-478d34786a17",
   "metadata": {},
   "source": [
    "ejercicio:\n"
   ]
  },
  {
   "cell_type": "code",
   "execution_count": 12,
   "id": "bf25d467-d783-4a34-aa5e-a1e108a214e7",
   "metadata": {},
   "outputs": [
    {
     "name": "stdout",
     "output_type": "stream",
     "text": [
      "DataFrame original:\n",
      "    id nombre  edad\n",
      "0   1    Ana  23.0\n",
      "1   2   Beto   NaN\n",
      "2   3   Caro  31.0\n",
      "3   4    NaN  27.0\n",
      "4   5  Diego   NaN \n",
      "\n",
      "Valores faltantes por columna:\n",
      " id        0\n",
      "nombre    1\n",
      "edad      2\n",
      "dtype: int64 \n",
      "\n",
      "Porcentaje de valores faltantes en 'edad': 40.00%\n",
      "\n",
      "DataFrame final:\n",
      "    id nombre  edad  edad_is_missing\n",
      "0   1    Ana    23                0\n",
      "1   2   Beto     0                1\n",
      "2   3   Caro    31                0\n",
      "3   4    NaN    27                0\n",
      "4   5  Diego     0                1\n"
     ]
    }
   ],
   "source": [
    "import pandas as pd\n",
    "from io import StringIO\n",
    "\n",
    "# 1) Cargar CSV\n",
    "csv = StringIO(\"\"\"id,nombre,edad\n",
    "1,Ana,23\n",
    "2,Beto,\n",
    "3,Caro,31\n",
    "4,,27\n",
    "5,Diego,\n",
    "\"\"\")\n",
    "df = pd.read_csv(csv)\n",
    "\n",
    "# 2) Mostrar DataFrame\n",
    "print(\"DataFrame original:\\n\", df, \"\\n\")\n",
    "\n",
    "# 3) Valores faltantes\n",
    "print(\"Valores faltantes por columna:\\n\", df.isna().sum(), \"\\n\")\n",
    "\n",
    "faltantes_pct = df[\"edad\"].isna().mean() * 100\n",
    "print(f\"Porcentaje de valores faltantes en 'edad': {faltantes_pct:.2f}%\\n\")\n",
    "\n",
    "# 4) Crear bandera\n",
    "df[\"edad_is_missing\"] = df[\"edad\"].isna().astype(\"Int8\")\n",
    "\n",
    "# 5) Imputar edad faltante con 0\n",
    "df[\"edad\"] = df[\"edad\"].fillna(0).astype(\"Int64\")\n",
    "\n",
    "# 6) DataFrame final\n",
    "print(\"DataFrame final:\\n\", df)"
   ]
  }
 ],
 "metadata": {
  "kernelspec": {
   "display_name": "Python 3 (ipykernel)",
   "language": "python",
   "name": "python3"
  },
  "language_info": {
   "codemirror_mode": {
    "name": "ipython",
    "version": 3
   },
   "file_extension": ".py",
   "mimetype": "text/x-python",
   "name": "python",
   "nbconvert_exporter": "python",
   "pygments_lexer": "ipython3",
   "version": "3.11.9"
  }
 },
 "nbformat": 4,
 "nbformat_minor": 5
}
