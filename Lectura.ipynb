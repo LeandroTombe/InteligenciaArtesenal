{
  "cells": [
    {
      "cell_type": "code",
      "execution_count": null,
      "id": "aeeb9a44-f394-49eb-90fe-d5ac0a7d2097",
      "metadata": {},
      "outputs": [],
      "source": []
    },
    {
      "cell_type": "markdown",
      "id": "3486f552-9c5e-4505-915e-3fc954af7e36",
      "metadata": {},
      "source": [
        "# 📘 Introducción al Análisis de Datos\n",
        "\n",
        "En análisis de datos, todo comienza con **leer datos** 📊.  \n",
        "Sin embargo, los datos pueden venir en **múltiples formatos** y cada uno requiere técnicas específicas para manejarlos.\n",
        "\n",
        "---\n",
        "\n",
        "## 🔹 Principales fuentes y formatos de datos\n",
        "\n",
        "### 1. Lectura y escritura de datos en **formato texto**\n",
        "- Uso de funciones como **`read_csv`** de `pandas`.\n",
        "- Manejo de **delimitadores** (`,` `;` `\\t`).\n",
        "- Configuración de **encabezados y tipos de datos**.\n",
        "- Opciones para trabajar con **archivos grandes** y **manejar errores** en la lectura.\n",
        "\n",
        "---\n",
        "\n",
        "### 2. Formatos de datos **binarios**\n",
        "- Formatos de datos binario como **Pickle**, **HDF5** y **Apache Parquet**.\n",
        "- HDF5 puede trabajar con **grandes volúmenes de datos**.\n",
        "- Procesos de **serialización y deserialización** (guardar y recuperar objetos de Python).\n",
        "\n",
        "---\n",
        "\n",
        "### 3. Interacción con **APIs web**\n",
        "- Consumo de datos en **JSON** mediante **APIs REST**.\n",
        "- Procesamiento de las respuestas directamente con `pandas`.\n",
        "- Manejo de **autenticación**, **paginación** y otras consideraciones al consumir APIs.\n",
        "\n",
        "---\n",
        "\n",
        "### 4. Interacción con **bases de datos**\n",
        "- Conexión a bases de datos **SQL** (SQLite, MySQL, PostgreSQL, etc.).\n",
        "- Ejecución de consultas y carga de resultados en un **DataFrame**.\n",
        "- Uso de **SQLAlchemy** para integración fluida con `pandas`.\n",
        "\n",
        "---\n",
        "\n",
        "## 🚀 Primer paso: trabajar con CSV\n",
        "En esta primera parte veremos un ejemplo con **CSV**,  \n",
        "uno de los formatos más **comunes, simples y fáciles de entender** para empezar a trabajar con datos.\n"
      ]
    },
    {
      "cell_type": "markdown",
      "id": "fd3e7523-0206-4f76-b80c-67968d517b37",
      "metadata": {},
      "source": [
        "Para trabajar con datos en Python, vamos a utilizar la librería **pandas** que nos permite leer datos de muchos formatos diferentes (CSV, Excel, JSON, SQL, etc.)."
      ]
    },
    {
      "cell_type": "markdown",
      "id": "ff173de3-a5a9-45c6-9e27-2c778308a0a9",
      "metadata": {},
      "source": [
        "## Opciones útiles de `read_csv`\n",
        "\n",
        "- **`sep`** → define el delimitador (`,` por defecto, puede ser `;`, `|`, `\\s+`, etc.) \n",
        "- **`header`** → fila usada como encabezado, por defecto es 0 (`None` si no hay)\n",
        "- **`names`** → lista de nombres de columnas para el resultado\n",
        "- **`index_col`** → nombre columna que se usará como índice de fila en el resultado\n",
        "- **`skiprows`** → lista de numeros filas que se saltan al leer\n",
        "- **`na_values`** → valores a considerar como `NaN`\n",
        "- **`nrows`** → número de filas a leer desde el principio del archivo (sin contar el encabezado)\n",
        "- **`chunksize`** → leer el archivo por partes (útil en archivos grandes)"
      ]
    },
    {
      "cell_type": "code",
      "execution_count": null,
      "id": "504855e0-c2da-4828-a34e-c500608363e9",
      "metadata": {},
      "outputs": [],
      "source": []
    }
  ],
  "metadata": {
    "kernelspec": {
      "display_name": "Python 3 (ipykernel)",
      "language": "python",
      "name": "python3"
    },
    "language_info": {
      "codemirror_mode": {
        "name": "ipython",
        "version": 3
      },
      "file_extension": ".py",
      "mimetype": "text/x-python",
      "name": "python",
      "nbconvert_exporter": "python",
      "pygments_lexer": "ipython3",
      "version": "3.12.6"
    }
  },
  "nbformat": 4,
  "nbformat_minor": 5
}
